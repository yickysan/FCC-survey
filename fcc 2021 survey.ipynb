{
 "cells": [
  {
   "cell_type": "markdown",
   "id": "4cf629bb",
   "metadata": {},
   "source": [
    "# What Tech Skills Are People Most Interested In Learning?"
   ]
  },
  {
   "cell_type": "markdown",
   "id": "ca8a53e1",
   "metadata": {},
   "source": [
    "Even in 2022, tech is still a buzz word. You can hear it at every corner of the internet, everyone is talking about one tech job or the other. On twitter you see several tweets and threads talking about picking up a tech skill and how to improve your tech skill and so I decided to look into data collected by <a href=\"https://www.freecodecamp.org/\">FreeCodeCamp</a> on their 2021 coders survey. As someone who is interested in tech as well and also starting my journey into the world of data science, I was curious to know what tech skills others are picking up or interested in, why they are trying to learn these skills etc. I was also curious about the inclusiveness of tech jobs, and what percentages that minorities make up in these jobs.  While I did manage to answer most of these questions, I'm not completely certain how well the data represents the population. You can find the data used for this analysis <a href=\"https://github.com/freeCodeCamp/2021-new-coder-survey\">here</a> on my github. If you want the original FreeCodeCamp survey data, you can find it <a href=\"https://github.com/freeCodeCamp/2021-new-coder-survey\">here</a> ."
   ]
  },
  {
   "cell_type": "markdown",
   "id": "576548c9",
   "metadata": {},
   "source": [
    "## Initial Data exploration And Data Cleaning"
   ]
  },
  {
   "cell_type": "code",
   "execution_count": 1,
   "id": "5a3f5ec3",
   "metadata": {},
   "outputs": [],
   "source": [
    "import pandas as pd\n",
    "import numpy as np\n",
    "import matplotlib.pyplot as plt\n",
    "import seaborn as sns\n",
    "%matplotlib inline"
   ]
  },
  {
   "cell_type": "code",
   "execution_count": 2,
   "id": "a86d8fab",
   "metadata": {},
   "outputs": [],
   "source": [
    "fcc = pd.read_csv(\"2021_coders_survey.csv\", low_memory=False)\n",
    "pd.set_option(\"display.max_columns\", None)"
   ]
  },
  {
   "cell_type": "code",
   "execution_count": 3,
   "id": "0afcb336",
   "metadata": {},
   "outputs": [],
   "source": [
    "fcc.drop('Unnamed: 0', axis=1, inplace=True)"
   ]
  },
  {
   "cell_type": "code",
   "execution_count": 4,
   "id": "775ae1f0",
   "metadata": {},
   "outputs": [
    {
     "data": {
      "text/html": [
       "<div>\n",
       "<style scoped>\n",
       "    .dataframe tbody tr th:only-of-type {\n",
       "        vertical-align: middle;\n",
       "    }\n",
       "\n",
       "    .dataframe tbody tr th {\n",
       "        vertical-align: top;\n",
       "    }\n",
       "\n",
       "    .dataframe thead th {\n",
       "        text-align: right;\n",
       "    }\n",
       "</style>\n",
       "<table border=\"1\" class=\"dataframe\">\n",
       "  <thead>\n",
       "    <tr style=\"text-align: right;\">\n",
       "      <th></th>\n",
       "      <th>Timestamp</th>\n",
       "      <th>reason_for_learning</th>\n",
       "      <th>learning_method</th>\n",
       "      <th>online_resources</th>\n",
       "      <th>hours_learning</th>\n",
       "      <th>months_programming</th>\n",
       "      <th>amount_spent</th>\n",
       "      <th>employed_dev</th>\n",
       "      <th>first_dev_job</th>\n",
       "      <th>dev_interest</th>\n",
       "      <th>company_type</th>\n",
       "      <th>career_interest</th>\n",
       "      <th>job_application</th>\n",
       "      <th>expected_earnings</th>\n",
       "      <th>reasons_for_interest</th>\n",
       "      <th>ideal_workdays</th>\n",
       "      <th>relocation</th>\n",
       "      <th>employment_status</th>\n",
       "      <th>employment_field</th>\n",
       "      <th>previous_year_earnings</th>\n",
       "      <th>age</th>\n",
       "      <th>gender</th>\n",
       "      <th>race</th>\n",
       "      <th>region</th>\n",
       "      <th>US_state</th>\n",
       "      <th>country_citizen</th>\n",
       "      <th>ethnic_minority</th>\n",
       "      <th>highest_degree</th>\n",
       "      <th>student</th>\n",
       "      <th>marital_status</th>\n",
       "      <th>current_job_duration</th>\n",
       "      <th>job_search_duration</th>\n",
       "      <th>earnings</th>\n",
       "      <th>benefits</th>\n",
       "      <th>job_security</th>\n",
       "      <th>work_life_balance</th>\n",
       "      <th>professional_growth</th>\n",
       "      <th>company_culture</th>\n",
       "      <th>inclusiveness</th>\n",
       "      <th>work_load</th>\n",
       "      <th>commute_time</th>\n",
       "      <th>military_service</th>\n",
       "      <th>disability</th>\n",
       "      <th>high_speed_internet</th>\n",
       "    </tr>\n",
       "  </thead>\n",
       "  <tbody>\n",
       "    <tr>\n",
       "      <th>0</th>\n",
       "      <td>2021-07-01 10:10:23</td>\n",
       "      <td>To succeed in current career</td>\n",
       "      <td>Online resources, Books, In-person bootcamps, ...</td>\n",
       "      <td>freeCodeCamp, Mozilla Developer Network (MDN),...</td>\n",
       "      <td>4.0</td>\n",
       "      <td>120</td>\n",
       "      <td>NaN</td>\n",
       "      <td>Yes</td>\n",
       "      <td>No</td>\n",
       "      <td>NaN</td>\n",
       "      <td>NaN</td>\n",
       "      <td>DevOps / SysAdmin</td>\n",
       "      <td>I am already a developer</td>\n",
       "      <td>NaN</td>\n",
       "      <td>Work from home opportunities, Flex-time/flexib...</td>\n",
       "      <td>All days from home</td>\n",
       "      <td>Maybe</td>\n",
       "      <td>Full-time employed for wages</td>\n",
       "      <td>Software development and IT</td>\n",
       "      <td>NaN</td>\n",
       "      <td>33.0</td>\n",
       "      <td>Prefer not to say</td>\n",
       "      <td>Alien</td>\n",
       "      <td>Europe and Central Asia</td>\n",
       "      <td>NaN</td>\n",
       "      <td>No</td>\n",
       "      <td>NaN</td>\n",
       "      <td>Professional degree (MBA, MD, JD, etc.)</td>\n",
       "      <td>No</td>\n",
       "      <td>Single, never married</td>\n",
       "      <td>1 to 3 years</td>\n",
       "      <td>1.0</td>\n",
       "      <td>Somewhat satisfied</td>\n",
       "      <td>Very satisfied</td>\n",
       "      <td>Somewhat satisfied</td>\n",
       "      <td>Somewhat dissatisfied</td>\n",
       "      <td>I do not know</td>\n",
       "      <td>Somewhat satisfied</td>\n",
       "      <td>Somewhat satisfied</td>\n",
       "      <td>Very dissatisfied</td>\n",
       "      <td>I work from home</td>\n",
       "      <td>No</td>\n",
       "      <td>No</td>\n",
       "      <td>Yes</td>\n",
       "    </tr>\n",
       "    <tr>\n",
       "      <th>1</th>\n",
       "      <td>2021-07-01 10:31:01</td>\n",
       "      <td>To change careers</td>\n",
       "      <td>Online resources, Books, Online bootcamps</td>\n",
       "      <td>freeCodeCamp, Mozilla Developer Network (MDN),...</td>\n",
       "      <td>10.0</td>\n",
       "      <td>6</td>\n",
       "      <td>30</td>\n",
       "      <td>No</td>\n",
       "      <td>I am not employed as a developer</td>\n",
       "      <td>I am already a developer</td>\n",
       "      <td>Work for a startup</td>\n",
       "      <td>Front-End Web Developer</td>\n",
       "      <td>Within the next 6 months</td>\n",
       "      <td>$10,000 to $20,999</td>\n",
       "      <td>Software Development jobs are well paid, Work ...</td>\n",
       "      <td>2 days from home and 3 days in an office</td>\n",
       "      <td>Yes</td>\n",
       "      <td>Full-time employed for wages</td>\n",
       "      <td>Oilfield</td>\n",
       "      <td>Under $1,000</td>\n",
       "      <td>38.0</td>\n",
       "      <td>Male</td>\n",
       "      <td>Hispanic/Latino(a/x)</td>\n",
       "      <td>Latin America and Caribbean</td>\n",
       "      <td>I am not living in the US</td>\n",
       "      <td>No</td>\n",
       "      <td>No</td>\n",
       "      <td>Bachelor’s degree</td>\n",
       "      <td>No</td>\n",
       "      <td>Married or domestic partnership</td>\n",
       "      <td>more than 3 years</td>\n",
       "      <td>3.0</td>\n",
       "      <td>Very dissatisfied</td>\n",
       "      <td>Very dissatisfied</td>\n",
       "      <td>Very dissatisfied</td>\n",
       "      <td>Somewhat satisfied</td>\n",
       "      <td>Somewhat dissatisfied</td>\n",
       "      <td>Somewhat dissatisfied</td>\n",
       "      <td>Somewhat satisfied</td>\n",
       "      <td>Somewhat satisfied</td>\n",
       "      <td>15 to 29 minutes</td>\n",
       "      <td>No</td>\n",
       "      <td>Yes</td>\n",
       "      <td>Yes</td>\n",
       "    </tr>\n",
       "    <tr>\n",
       "      <th>2</th>\n",
       "      <td>2021-07-01 10:42:31</td>\n",
       "      <td>To change careers</td>\n",
       "      <td>Online resources, Books, Hackathons, Meetup.co...</td>\n",
       "      <td>freeCodeCamp, Mozilla Developer Network (MDN),...</td>\n",
       "      <td>30.0</td>\n",
       "      <td>48</td>\n",
       "      <td>300</td>\n",
       "      <td>No</td>\n",
       "      <td>I am not employed as a developer</td>\n",
       "      <td>Yes</td>\n",
       "      <td>Work for a non profit</td>\n",
       "      <td>Full-Stack Web Developer</td>\n",
       "      <td>I am already applying</td>\n",
       "      <td>$75,000 to $99,999</td>\n",
       "      <td>I love coding, Work from home opportunities, I...</td>\n",
       "      <td>All days from home</td>\n",
       "      <td>Yes</td>\n",
       "      <td>unemployed</td>\n",
       "      <td>I am not currently working</td>\n",
       "      <td>NaN</td>\n",
       "      <td>NaN</td>\n",
       "      <td>Male</td>\n",
       "      <td>NaN</td>\n",
       "      <td>North America</td>\n",
       "      <td>New York</td>\n",
       "      <td>No</td>\n",
       "      <td>NaN</td>\n",
       "      <td>Master's degree (non-professional)</td>\n",
       "      <td>No</td>\n",
       "      <td>NaN</td>\n",
       "      <td>I am not currently working</td>\n",
       "      <td>24.0</td>\n",
       "      <td>Not Applicable</td>\n",
       "      <td>Not Applicable</td>\n",
       "      <td>Not Applicable</td>\n",
       "      <td>Not Applicable</td>\n",
       "      <td>Not Applicable</td>\n",
       "      <td>Not Applicable</td>\n",
       "      <td>Not Applicable</td>\n",
       "      <td>Not Applicable</td>\n",
       "      <td>I am not working</td>\n",
       "      <td>No</td>\n",
       "      <td>No</td>\n",
       "      <td>Yes</td>\n",
       "    </tr>\n",
       "    <tr>\n",
       "      <th>3</th>\n",
       "      <td>2021-07-01 11:06:43</td>\n",
       "      <td>As a hobby</td>\n",
       "      <td>Online resources, Books</td>\n",
       "      <td>freeCodeCamp, Mozilla Developer Network (MDN),...</td>\n",
       "      <td>NaN</td>\n",
       "      <td>36</td>\n",
       "      <td>0</td>\n",
       "      <td>No</td>\n",
       "      <td>I am not employed as a developer</td>\n",
       "      <td>Yes</td>\n",
       "      <td>Freelance</td>\n",
       "      <td>Information Security</td>\n",
       "      <td>Within the next 6 months</td>\n",
       "      <td>NaN</td>\n",
       "      <td>I love solving problems</td>\n",
       "      <td>3 days from home and 2 days in an office</td>\n",
       "      <td>Yes</td>\n",
       "      <td>Not working but looking for work</td>\n",
       "      <td>I am not currently working</td>\n",
       "      <td>NaN</td>\n",
       "      <td>19.0</td>\n",
       "      <td>Male</td>\n",
       "      <td>Black/African American</td>\n",
       "      <td>Sub-Saharan Africa</td>\n",
       "      <td>NaN</td>\n",
       "      <td>No</td>\n",
       "      <td>Yes</td>\n",
       "      <td>High school diploma or equivalent (GED)</td>\n",
       "      <td>Yes</td>\n",
       "      <td>Single, never married</td>\n",
       "      <td>I am not currently working</td>\n",
       "      <td>NaN</td>\n",
       "      <td>NaN</td>\n",
       "      <td>NaN</td>\n",
       "      <td>NaN</td>\n",
       "      <td>NaN</td>\n",
       "      <td>NaN</td>\n",
       "      <td>NaN</td>\n",
       "      <td>NaN</td>\n",
       "      <td>NaN</td>\n",
       "      <td>I am not working</td>\n",
       "      <td>No</td>\n",
       "      <td>No</td>\n",
       "      <td>No</td>\n",
       "    </tr>\n",
       "    <tr>\n",
       "      <th>4</th>\n",
       "      <td>2021-07-01 11:14:31</td>\n",
       "      <td>To start your first career</td>\n",
       "      <td>Online resources, Books, Online bootcamps</td>\n",
       "      <td>freeCodeCamp, Stack Overflow, Coursera, Udemy</td>\n",
       "      <td>2.0</td>\n",
       "      <td>24</td>\n",
       "      <td>5000</td>\n",
       "      <td>Yes</td>\n",
       "      <td>Yes</td>\n",
       "      <td>I am already a developer</td>\n",
       "      <td>Work for a startup</td>\n",
       "      <td>Product Manager</td>\n",
       "      <td>I am already a developer</td>\n",
       "      <td>$30,000 to $49,999</td>\n",
       "      <td>Software Development jobs are well paid, Build...</td>\n",
       "      <td>4 days from home and 1 day in an office</td>\n",
       "      <td>Yes</td>\n",
       "      <td>Full-time employed for wages</td>\n",
       "      <td>Finance</td>\n",
       "      <td>$40,000 to $49,999</td>\n",
       "      <td>35.0</td>\n",
       "      <td>Male</td>\n",
       "      <td>East Asian</td>\n",
       "      <td>East Asia and Pacific</td>\n",
       "      <td>I am not living in the US</td>\n",
       "      <td>No</td>\n",
       "      <td>No</td>\n",
       "      <td>Bachelor’s degree</td>\n",
       "      <td>No</td>\n",
       "      <td>Single, never married</td>\n",
       "      <td>more than 3 years</td>\n",
       "      <td>1.0</td>\n",
       "      <td>Somewhat satisfied</td>\n",
       "      <td>Somewhat dissatisfied</td>\n",
       "      <td>Somewhat dissatisfied</td>\n",
       "      <td>Somewhat satisfied</td>\n",
       "      <td>Somewhat dissatisfied</td>\n",
       "      <td>Somewhat satisfied</td>\n",
       "      <td>Somewhat dissatisfied</td>\n",
       "      <td>Somewhat dissatisfied</td>\n",
       "      <td>45 to 60 minutes</td>\n",
       "      <td>No</td>\n",
       "      <td>No</td>\n",
       "      <td>Yes</td>\n",
       "    </tr>\n",
       "    <tr>\n",
       "      <th>...</th>\n",
       "      <td>...</td>\n",
       "      <td>...</td>\n",
       "      <td>...</td>\n",
       "      <td>...</td>\n",
       "      <td>...</td>\n",
       "      <td>...</td>\n",
       "      <td>...</td>\n",
       "      <td>...</td>\n",
       "      <td>...</td>\n",
       "      <td>...</td>\n",
       "      <td>...</td>\n",
       "      <td>...</td>\n",
       "      <td>...</td>\n",
       "      <td>...</td>\n",
       "      <td>...</td>\n",
       "      <td>...</td>\n",
       "      <td>...</td>\n",
       "      <td>...</td>\n",
       "      <td>...</td>\n",
       "      <td>...</td>\n",
       "      <td>...</td>\n",
       "      <td>...</td>\n",
       "      <td>...</td>\n",
       "      <td>...</td>\n",
       "      <td>...</td>\n",
       "      <td>...</td>\n",
       "      <td>...</td>\n",
       "      <td>...</td>\n",
       "      <td>...</td>\n",
       "      <td>...</td>\n",
       "      <td>...</td>\n",
       "      <td>...</td>\n",
       "      <td>...</td>\n",
       "      <td>...</td>\n",
       "      <td>...</td>\n",
       "      <td>...</td>\n",
       "      <td>...</td>\n",
       "      <td>...</td>\n",
       "      <td>...</td>\n",
       "      <td>...</td>\n",
       "      <td>...</td>\n",
       "      <td>...</td>\n",
       "      <td>...</td>\n",
       "      <td>...</td>\n",
       "    </tr>\n",
       "    <tr>\n",
       "      <th>18121</th>\n",
       "      <td>2021-09-29 07:38:11</td>\n",
       "      <td>To change careers</td>\n",
       "      <td>Online resources, Books, In-person bootcamps</td>\n",
       "      <td>Stack Overflow, EdX, Khan Academy, Udacity, Ci...</td>\n",
       "      <td>40.0</td>\n",
       "      <td>12</td>\n",
       "      <td>0</td>\n",
       "      <td>No</td>\n",
       "      <td>I am not employed as a developer</td>\n",
       "      <td>Yes</td>\n",
       "      <td>Work for a medium-sized company</td>\n",
       "      <td>Data Scientist</td>\n",
       "      <td>I am already applying</td>\n",
       "      <td>$100,000 to $124,999</td>\n",
       "      <td>Software Development jobs are well paid, Softw...</td>\n",
       "      <td>1 day from home and 4 days in an office</td>\n",
       "      <td>Yes</td>\n",
       "      <td>Not working but looking for work</td>\n",
       "      <td>I am not currently working</td>\n",
       "      <td>None</td>\n",
       "      <td>44.0</td>\n",
       "      <td>Male</td>\n",
       "      <td>White</td>\n",
       "      <td>Middle East and North Africa</td>\n",
       "      <td>I am not living in the US</td>\n",
       "      <td>Yes</td>\n",
       "      <td>No</td>\n",
       "      <td>Master's degree (non-professional)</td>\n",
       "      <td>No</td>\n",
       "      <td>Single, never married</td>\n",
       "      <td>I am not currently working</td>\n",
       "      <td>12.0</td>\n",
       "      <td>NaN</td>\n",
       "      <td>NaN</td>\n",
       "      <td>NaN</td>\n",
       "      <td>NaN</td>\n",
       "      <td>NaN</td>\n",
       "      <td>NaN</td>\n",
       "      <td>NaN</td>\n",
       "      <td>NaN</td>\n",
       "      <td>NaN</td>\n",
       "      <td>No</td>\n",
       "      <td>No</td>\n",
       "      <td>Yes</td>\n",
       "    </tr>\n",
       "    <tr>\n",
       "      <th>18122</th>\n",
       "      <td>2021-09-29 12:52:59</td>\n",
       "      <td>To change careers</td>\n",
       "      <td>Online resources, In-person bootcamps</td>\n",
       "      <td>freeCodeCamp, Mozilla Developer Network (MDN),...</td>\n",
       "      <td>NaN</td>\n",
       "      <td>NaN</td>\n",
       "      <td>NaN</td>\n",
       "      <td>No</td>\n",
       "      <td>I am not employed as a developer</td>\n",
       "      <td>Yes</td>\n",
       "      <td>Work for a non profit</td>\n",
       "      <td>Full-Stack Web Developer</td>\n",
       "      <td>I am already applying</td>\n",
       "      <td>$50,000 to $74,999</td>\n",
       "      <td>Software Development jobs are well paid, Softw...</td>\n",
       "      <td>4 days from home and 1 day in an office</td>\n",
       "      <td>Yes</td>\n",
       "      <td>Not working but looking for work</td>\n",
       "      <td>I am not currently working</td>\n",
       "      <td>None</td>\n",
       "      <td>37.0</td>\n",
       "      <td>Female</td>\n",
       "      <td>White</td>\n",
       "      <td>North America</td>\n",
       "      <td>Tennessee</td>\n",
       "      <td>No</td>\n",
       "      <td>No</td>\n",
       "      <td>Bachelor’s degree</td>\n",
       "      <td>No</td>\n",
       "      <td>Married or domestic partnership</td>\n",
       "      <td>I am not currently working</td>\n",
       "      <td>NaN</td>\n",
       "      <td>NaN</td>\n",
       "      <td>NaN</td>\n",
       "      <td>NaN</td>\n",
       "      <td>NaN</td>\n",
       "      <td>NaN</td>\n",
       "      <td>NaN</td>\n",
       "      <td>NaN</td>\n",
       "      <td>NaN</td>\n",
       "      <td>NaN</td>\n",
       "      <td>No</td>\n",
       "      <td>No</td>\n",
       "      <td>Yes</td>\n",
       "    </tr>\n",
       "    <tr>\n",
       "      <th>18123</th>\n",
       "      <td>2021-09-29 14:18:31</td>\n",
       "      <td>To start your first career</td>\n",
       "      <td>Online resources, Books</td>\n",
       "      <td>freeCodeCamp, Mozilla Developer Network (MDN),...</td>\n",
       "      <td>10.0</td>\n",
       "      <td>13</td>\n",
       "      <td>90</td>\n",
       "      <td>No</td>\n",
       "      <td>I am not employed as a developer</td>\n",
       "      <td>Yes</td>\n",
       "      <td>Work for a medium-sized company</td>\n",
       "      <td>Full-Stack Web Developer</td>\n",
       "      <td>Within the next 6 months</td>\n",
       "      <td>$30,000 to $49,999</td>\n",
       "      <td>Software Development jobs are well paid, Flex-...</td>\n",
       "      <td>3 days from home and 2 days in an office</td>\n",
       "      <td>Maybe</td>\n",
       "      <td>Full-time employed for wages</td>\n",
       "      <td>Social Services</td>\n",
       "      <td>$20,000 to $24,999</td>\n",
       "      <td>23.0</td>\n",
       "      <td>Male</td>\n",
       "      <td>White</td>\n",
       "      <td>North America</td>\n",
       "      <td>I am not living in the US</td>\n",
       "      <td>No</td>\n",
       "      <td>No</td>\n",
       "      <td>Associate’s degree</td>\n",
       "      <td>No</td>\n",
       "      <td>Single, never married</td>\n",
       "      <td>1 to 3 years</td>\n",
       "      <td>0.0</td>\n",
       "      <td>Somewhat dissatisfied</td>\n",
       "      <td>Very dissatisfied</td>\n",
       "      <td>Somewhat satisfied</td>\n",
       "      <td>Very satisfied</td>\n",
       "      <td>Very dissatisfied</td>\n",
       "      <td>Very dissatisfied</td>\n",
       "      <td>Somewhat satisfied</td>\n",
       "      <td>Very satisfied</td>\n",
       "      <td>15 to 29 minutes</td>\n",
       "      <td>No</td>\n",
       "      <td>No</td>\n",
       "      <td>Yes</td>\n",
       "    </tr>\n",
       "    <tr>\n",
       "      <th>18124</th>\n",
       "      <td>2021-09-30 04:04:32</td>\n",
       "      <td>To change careers</td>\n",
       "      <td>Online resources, Books, In-person bootcamps, ...</td>\n",
       "      <td>freeCodeCamp, Stack Overflow, Codecademy, Udem...</td>\n",
       "      <td>6.0</td>\n",
       "      <td>36</td>\n",
       "      <td>300</td>\n",
       "      <td>Yes</td>\n",
       "      <td>Yes</td>\n",
       "      <td>I am already a developer</td>\n",
       "      <td>Start your own business</td>\n",
       "      <td>Back-End Web Developer</td>\n",
       "      <td>I am already a developer</td>\n",
       "      <td>$20,000 to $29,999</td>\n",
       "      <td>I want to work with new technology, Building p...</td>\n",
       "      <td>3 days from home and 2 days in an office</td>\n",
       "      <td>Yes</td>\n",
       "      <td>Doing an unpaid internship</td>\n",
       "      <td>Software development and IT</td>\n",
       "      <td>$30,000 to $34,999</td>\n",
       "      <td>34.0</td>\n",
       "      <td>Male</td>\n",
       "      <td>Mediterranean European</td>\n",
       "      <td>Europe and Central Asia</td>\n",
       "      <td>I am not living in the US</td>\n",
       "      <td>No</td>\n",
       "      <td>No</td>\n",
       "      <td>Professional degree (MBA, MD, JD, etc.)</td>\n",
       "      <td>No</td>\n",
       "      <td>Single, never married</td>\n",
       "      <td>Less than 6 months</td>\n",
       "      <td>0.0</td>\n",
       "      <td>Not Applicable</td>\n",
       "      <td>Somewhat satisfied</td>\n",
       "      <td>Somewhat satisfied</td>\n",
       "      <td>Somewhat satisfied</td>\n",
       "      <td>Very satisfied</td>\n",
       "      <td>Very satisfied</td>\n",
       "      <td>Very satisfied</td>\n",
       "      <td>Somewhat satisfied</td>\n",
       "      <td>Less than 15 minutes</td>\n",
       "      <td>No</td>\n",
       "      <td>No</td>\n",
       "      <td>Yes</td>\n",
       "    </tr>\n",
       "    <tr>\n",
       "      <th>18125</th>\n",
       "      <td>2021-10-01 04:09:25</td>\n",
       "      <td>To succeed in current career</td>\n",
       "      <td>Online resources, Books</td>\n",
       "      <td>freeCodeCamp, Mozilla Developer Network (MDN),...</td>\n",
       "      <td>5.0</td>\n",
       "      <td>200</td>\n",
       "      <td>300</td>\n",
       "      <td>No</td>\n",
       "      <td>I am not employed as a developer</td>\n",
       "      <td>No</td>\n",
       "      <td>Start your own business</td>\n",
       "      <td>Teacher / Trainer / Developer Evangelist</td>\n",
       "      <td>I haven’t decided</td>\n",
       "      <td>$10,000 to $20,999</td>\n",
       "      <td>Building products is awesome, Flex-time/flexib...</td>\n",
       "      <td>3 days from home and 2 days in an office</td>\n",
       "      <td>No</td>\n",
       "      <td>Self-employed business owner</td>\n",
       "      <td>Education</td>\n",
       "      <td>$10,000 to $14,999</td>\n",
       "      <td>44.0</td>\n",
       "      <td>Male</td>\n",
       "      <td>White</td>\n",
       "      <td>Europe and Central Asia</td>\n",
       "      <td>I am not living in the US</td>\n",
       "      <td>No</td>\n",
       "      <td>No</td>\n",
       "      <td>Master's degree (non-professional)</td>\n",
       "      <td>No</td>\n",
       "      <td>Married or domestic partnership</td>\n",
       "      <td>1 to 3 years</td>\n",
       "      <td>0.0</td>\n",
       "      <td>Somewhat dissatisfied</td>\n",
       "      <td>Not Applicable</td>\n",
       "      <td>Not Applicable</td>\n",
       "      <td>Very dissatisfied</td>\n",
       "      <td>Not Applicable</td>\n",
       "      <td>Very satisfied</td>\n",
       "      <td>Somewhat satisfied</td>\n",
       "      <td>Somewhat dissatisfied</td>\n",
       "      <td>15 to 29 minutes</td>\n",
       "      <td>No</td>\n",
       "      <td>No</td>\n",
       "      <td>Yes</td>\n",
       "    </tr>\n",
       "  </tbody>\n",
       "</table>\n",
       "<p>18126 rows × 44 columns</p>\n",
       "</div>"
      ],
      "text/plain": [
       "                 Timestamp           reason_for_learning  \\\n",
       "0      2021-07-01 10:10:23  To succeed in current career   \n",
       "1      2021-07-01 10:31:01             To change careers   \n",
       "2      2021-07-01 10:42:31             To change careers   \n",
       "3      2021-07-01 11:06:43                    As a hobby   \n",
       "4      2021-07-01 11:14:31    To start your first career   \n",
       "...                    ...                           ...   \n",
       "18121  2021-09-29 07:38:11             To change careers   \n",
       "18122  2021-09-29 12:52:59             To change careers   \n",
       "18123  2021-09-29 14:18:31    To start your first career   \n",
       "18124  2021-09-30 04:04:32             To change careers   \n",
       "18125  2021-10-01 04:09:25  To succeed in current career   \n",
       "\n",
       "                                         learning_method  \\\n",
       "0      Online resources, Books, In-person bootcamps, ...   \n",
       "1              Online resources, Books, Online bootcamps   \n",
       "2      Online resources, Books, Hackathons, Meetup.co...   \n",
       "3                                Online resources, Books   \n",
       "4              Online resources, Books, Online bootcamps   \n",
       "...                                                  ...   \n",
       "18121       Online resources, Books, In-person bootcamps   \n",
       "18122              Online resources, In-person bootcamps   \n",
       "18123                            Online resources, Books   \n",
       "18124  Online resources, Books, In-person bootcamps, ...   \n",
       "18125                            Online resources, Books   \n",
       "\n",
       "                                        online_resources  hours_learning  \\\n",
       "0      freeCodeCamp, Mozilla Developer Network (MDN),...             4.0   \n",
       "1      freeCodeCamp, Mozilla Developer Network (MDN),...            10.0   \n",
       "2      freeCodeCamp, Mozilla Developer Network (MDN),...            30.0   \n",
       "3      freeCodeCamp, Mozilla Developer Network (MDN),...             NaN   \n",
       "4          freeCodeCamp, Stack Overflow, Coursera, Udemy             2.0   \n",
       "...                                                  ...             ...   \n",
       "18121  Stack Overflow, EdX, Khan Academy, Udacity, Ci...            40.0   \n",
       "18122  freeCodeCamp, Mozilla Developer Network (MDN),...             NaN   \n",
       "18123  freeCodeCamp, Mozilla Developer Network (MDN),...            10.0   \n",
       "18124  freeCodeCamp, Stack Overflow, Codecademy, Udem...             6.0   \n",
       "18125  freeCodeCamp, Mozilla Developer Network (MDN),...             5.0   \n",
       "\n",
       "      months_programming amount_spent employed_dev  \\\n",
       "0                    120          NaN          Yes   \n",
       "1                      6           30           No   \n",
       "2                     48          300           No   \n",
       "3                     36            0           No   \n",
       "4                     24         5000          Yes   \n",
       "...                  ...          ...          ...   \n",
       "18121                 12            0           No   \n",
       "18122                NaN          NaN           No   \n",
       "18123                 13           90           No   \n",
       "18124                 36          300          Yes   \n",
       "18125                200          300           No   \n",
       "\n",
       "                          first_dev_job              dev_interest  \\\n",
       "0                                    No                       NaN   \n",
       "1      I am not employed as a developer  I am already a developer   \n",
       "2      I am not employed as a developer                       Yes   \n",
       "3      I am not employed as a developer                       Yes   \n",
       "4                                   Yes  I am already a developer   \n",
       "...                                 ...                       ...   \n",
       "18121  I am not employed as a developer                       Yes   \n",
       "18122  I am not employed as a developer                       Yes   \n",
       "18123  I am not employed as a developer                       Yes   \n",
       "18124                               Yes  I am already a developer   \n",
       "18125  I am not employed as a developer                        No   \n",
       "\n",
       "                          company_type  \\\n",
       "0                                  NaN   \n",
       "1                   Work for a startup   \n",
       "2                Work for a non profit   \n",
       "3                            Freelance   \n",
       "4                   Work for a startup   \n",
       "...                                ...   \n",
       "18121  Work for a medium-sized company   \n",
       "18122            Work for a non profit   \n",
       "18123  Work for a medium-sized company   \n",
       "18124          Start your own business   \n",
       "18125          Start your own business   \n",
       "\n",
       "                                career_interest           job_application  \\\n",
       "0                             DevOps / SysAdmin  I am already a developer   \n",
       "1                       Front-End Web Developer  Within the next 6 months   \n",
       "2                      Full-Stack Web Developer     I am already applying   \n",
       "3                          Information Security  Within the next 6 months   \n",
       "4                               Product Manager  I am already a developer   \n",
       "...                                         ...                       ...   \n",
       "18121                            Data Scientist     I am already applying   \n",
       "18122                  Full-Stack Web Developer     I am already applying   \n",
       "18123                  Full-Stack Web Developer  Within the next 6 months   \n",
       "18124                    Back-End Web Developer  I am already a developer   \n",
       "18125  Teacher / Trainer / Developer Evangelist         I haven’t decided   \n",
       "\n",
       "          expected_earnings  \\\n",
       "0                       NaN   \n",
       "1        $10,000 to $20,999   \n",
       "2        $75,000 to $99,999   \n",
       "3                       NaN   \n",
       "4        $30,000 to $49,999   \n",
       "...                     ...   \n",
       "18121  $100,000 to $124,999   \n",
       "18122    $50,000 to $74,999   \n",
       "18123    $30,000 to $49,999   \n",
       "18124    $20,000 to $29,999   \n",
       "18125    $10,000 to $20,999   \n",
       "\n",
       "                                    reasons_for_interest  \\\n",
       "0      Work from home opportunities, Flex-time/flexib...   \n",
       "1      Software Development jobs are well paid, Work ...   \n",
       "2      I love coding, Work from home opportunities, I...   \n",
       "3                                I love solving problems   \n",
       "4      Software Development jobs are well paid, Build...   \n",
       "...                                                  ...   \n",
       "18121  Software Development jobs are well paid, Softw...   \n",
       "18122  Software Development jobs are well paid, Softw...   \n",
       "18123  Software Development jobs are well paid, Flex-...   \n",
       "18124  I want to work with new technology, Building p...   \n",
       "18125  Building products is awesome, Flex-time/flexib...   \n",
       "\n",
       "                                 ideal_workdays relocation  \\\n",
       "0                            All days from home      Maybe   \n",
       "1      2 days from home and 3 days in an office        Yes   \n",
       "2                            All days from home        Yes   \n",
       "3      3 days from home and 2 days in an office        Yes   \n",
       "4       4 days from home and 1 day in an office        Yes   \n",
       "...                                         ...        ...   \n",
       "18121   1 day from home and 4 days in an office        Yes   \n",
       "18122   4 days from home and 1 day in an office        Yes   \n",
       "18123  3 days from home and 2 days in an office      Maybe   \n",
       "18124  3 days from home and 2 days in an office        Yes   \n",
       "18125  3 days from home and 2 days in an office         No   \n",
       "\n",
       "                      employment_status             employment_field  \\\n",
       "0          Full-time employed for wages  Software development and IT   \n",
       "1          Full-time employed for wages                    Oilfield    \n",
       "2                            unemployed   I am not currently working   \n",
       "3      Not working but looking for work   I am not currently working   \n",
       "4          Full-time employed for wages                      Finance   \n",
       "...                                 ...                          ...   \n",
       "18121  Not working but looking for work   I am not currently working   \n",
       "18122  Not working but looking for work   I am not currently working   \n",
       "18123      Full-time employed for wages              Social Services   \n",
       "18124        Doing an unpaid internship  Software development and IT   \n",
       "18125      Self-employed business owner                    Education   \n",
       "\n",
       "      previous_year_earnings   age             gender                    race  \\\n",
       "0                        NaN  33.0  Prefer not to say                   Alien   \n",
       "1               Under $1,000  38.0               Male    Hispanic/Latino(a/x)   \n",
       "2                        NaN   NaN               Male                     NaN   \n",
       "3                        NaN  19.0               Male  Black/African American   \n",
       "4         $40,000 to $49,999  35.0               Male              East Asian   \n",
       "...                      ...   ...                ...                     ...   \n",
       "18121                   None  44.0               Male                   White   \n",
       "18122                   None  37.0             Female                   White   \n",
       "18123     $20,000 to $24,999  23.0               Male                   White   \n",
       "18124     $30,000 to $34,999  34.0               Male  Mediterranean European   \n",
       "18125     $10,000 to $14,999  44.0               Male                   White   \n",
       "\n",
       "                             region                   US_state  \\\n",
       "0           Europe and Central Asia                        NaN   \n",
       "1       Latin America and Caribbean  I am not living in the US   \n",
       "2                     North America                   New York   \n",
       "3                Sub-Saharan Africa                        NaN   \n",
       "4             East Asia and Pacific  I am not living in the US   \n",
       "...                             ...                        ...   \n",
       "18121  Middle East and North Africa  I am not living in the US   \n",
       "18122                 North America                  Tennessee   \n",
       "18123                 North America  I am not living in the US   \n",
       "18124       Europe and Central Asia  I am not living in the US   \n",
       "18125       Europe and Central Asia  I am not living in the US   \n",
       "\n",
       "      country_citizen ethnic_minority  \\\n",
       "0                  No             NaN   \n",
       "1                  No              No   \n",
       "2                  No             NaN   \n",
       "3                  No             Yes   \n",
       "4                  No              No   \n",
       "...               ...             ...   \n",
       "18121             Yes              No   \n",
       "18122              No              No   \n",
       "18123              No              No   \n",
       "18124              No              No   \n",
       "18125              No              No   \n",
       "\n",
       "                                highest_degree student  \\\n",
       "0      Professional degree (MBA, MD, JD, etc.)      No   \n",
       "1                            Bachelor’s degree      No   \n",
       "2           Master's degree (non-professional)      No   \n",
       "3      High school diploma or equivalent (GED)     Yes   \n",
       "4                            Bachelor’s degree      No   \n",
       "...                                        ...     ...   \n",
       "18121       Master's degree (non-professional)      No   \n",
       "18122                        Bachelor’s degree      No   \n",
       "18123                       Associate’s degree      No   \n",
       "18124  Professional degree (MBA, MD, JD, etc.)      No   \n",
       "18125       Master's degree (non-professional)      No   \n",
       "\n",
       "                        marital_status        current_job_duration  \\\n",
       "0                Single, never married                1 to 3 years   \n",
       "1      Married or domestic partnership           more than 3 years   \n",
       "2                                  NaN  I am not currently working   \n",
       "3                Single, never married  I am not currently working   \n",
       "4                Single, never married           more than 3 years   \n",
       "...                                ...                         ...   \n",
       "18121            Single, never married  I am not currently working   \n",
       "18122  Married or domestic partnership  I am not currently working   \n",
       "18123            Single, never married                1 to 3 years   \n",
       "18124            Single, never married          Less than 6 months   \n",
       "18125  Married or domestic partnership                1 to 3 years   \n",
       "\n",
       "       job_search_duration               earnings               benefits  \\\n",
       "0                      1.0     Somewhat satisfied         Very satisfied   \n",
       "1                      3.0      Very dissatisfied      Very dissatisfied   \n",
       "2                     24.0         Not Applicable         Not Applicable   \n",
       "3                      NaN                    NaN                    NaN   \n",
       "4                      1.0     Somewhat satisfied  Somewhat dissatisfied   \n",
       "...                    ...                    ...                    ...   \n",
       "18121                 12.0                    NaN                    NaN   \n",
       "18122                  NaN                    NaN                    NaN   \n",
       "18123                  0.0  Somewhat dissatisfied      Very dissatisfied   \n",
       "18124                  0.0         Not Applicable     Somewhat satisfied   \n",
       "18125                  0.0  Somewhat dissatisfied         Not Applicable   \n",
       "\n",
       "                job_security      work_life_balance    professional_growth  \\\n",
       "0         Somewhat satisfied  Somewhat dissatisfied          I do not know   \n",
       "1          Very dissatisfied     Somewhat satisfied  Somewhat dissatisfied   \n",
       "2             Not Applicable         Not Applicable         Not Applicable   \n",
       "3                        NaN                    NaN                    NaN   \n",
       "4      Somewhat dissatisfied     Somewhat satisfied  Somewhat dissatisfied   \n",
       "...                      ...                    ...                    ...   \n",
       "18121                    NaN                    NaN                    NaN   \n",
       "18122                    NaN                    NaN                    NaN   \n",
       "18123     Somewhat satisfied         Very satisfied      Very dissatisfied   \n",
       "18124     Somewhat satisfied     Somewhat satisfied         Very satisfied   \n",
       "18125         Not Applicable      Very dissatisfied         Not Applicable   \n",
       "\n",
       "             company_culture          inclusiveness              work_load  \\\n",
       "0         Somewhat satisfied     Somewhat satisfied      Very dissatisfied   \n",
       "1      Somewhat dissatisfied     Somewhat satisfied     Somewhat satisfied   \n",
       "2             Not Applicable         Not Applicable         Not Applicable   \n",
       "3                        NaN                    NaN                    NaN   \n",
       "4         Somewhat satisfied  Somewhat dissatisfied  Somewhat dissatisfied   \n",
       "...                      ...                    ...                    ...   \n",
       "18121                    NaN                    NaN                    NaN   \n",
       "18122                    NaN                    NaN                    NaN   \n",
       "18123      Very dissatisfied     Somewhat satisfied         Very satisfied   \n",
       "18124         Very satisfied         Very satisfied     Somewhat satisfied   \n",
       "18125         Very satisfied     Somewhat satisfied  Somewhat dissatisfied   \n",
       "\n",
       "               commute_time military_service disability high_speed_internet  \n",
       "0          I work from home               No         No                 Yes  \n",
       "1          15 to 29 minutes               No        Yes                 Yes  \n",
       "2          I am not working               No         No                 Yes  \n",
       "3          I am not working               No         No                  No  \n",
       "4          45 to 60 minutes               No         No                 Yes  \n",
       "...                     ...              ...        ...                 ...  \n",
       "18121                   NaN               No         No                 Yes  \n",
       "18122                   NaN               No         No                 Yes  \n",
       "18123      15 to 29 minutes               No         No                 Yes  \n",
       "18124  Less than 15 minutes               No         No                 Yes  \n",
       "18125      15 to 29 minutes               No         No                 Yes  \n",
       "\n",
       "[18126 rows x 44 columns]"
      ]
     },
     "execution_count": 4,
     "metadata": {},
     "output_type": "execute_result"
    }
   ],
   "source": [
    "fcc"
   ]
  },
  {
   "cell_type": "code",
   "execution_count": 5,
   "id": "28bb2aad",
   "metadata": {
    "scrolled": false
   },
   "outputs": [
    {
     "name": "stdout",
     "output_type": "stream",
     "text": [
      "<class 'pandas.core.frame.DataFrame'>\n",
      "RangeIndex: 18126 entries, 0 to 18125\n",
      "Data columns (total 44 columns):\n",
      " #   Column                  Non-Null Count  Dtype  \n",
      "---  ------                  --------------  -----  \n",
      " 0   Timestamp               18126 non-null  object \n",
      " 1   reason_for_learning     17991 non-null  object \n",
      " 2   learning_method         17860 non-null  object \n",
      " 3   online_resources        17390 non-null  object \n",
      " 4   hours_learning          16603 non-null  float64\n",
      " 5   months_programming      16695 non-null  object \n",
      " 6   amount_spent            16153 non-null  object \n",
      " 7   employed_dev            17673 non-null  object \n",
      " 8   first_dev_job           17222 non-null  object \n",
      " 9   dev_interest            17537 non-null  object \n",
      " 10  company_type            17469 non-null  object \n",
      " 11  career_interest         17391 non-null  object \n",
      " 12  job_application         17553 non-null  object \n",
      " 13  expected_earnings       15751 non-null  object \n",
      " 14  reasons_for_interest    17588 non-null  object \n",
      " 15  ideal_workdays          17188 non-null  object \n",
      " 16  relocation              17366 non-null  object \n",
      " 17  employment_status       17297 non-null  object \n",
      " 18  employment_field        16884 non-null  object \n",
      " 19  previous_year_earnings  15381 non-null  object \n",
      " 20  age                     17103 non-null  float64\n",
      " 21  gender                  17462 non-null  object \n",
      " 22  race                    17191 non-null  object \n",
      " 23  region                  17234 non-null  object \n",
      " 24  US_state                13324 non-null  object \n",
      " 25  country_citizen         17133 non-null  object \n",
      " 26  ethnic_minority         16946 non-null  object \n",
      " 27  highest_degree          17205 non-null  object \n",
      " 28  student                 17274 non-null  object \n",
      " 29  marital_status          17157 non-null  object \n",
      " 30  current_job_duration    16943 non-null  object \n",
      " 31  job_search_duration     12352 non-null  float64\n",
      " 32  earnings                12357 non-null  object \n",
      " 33  benefits                12279 non-null  object \n",
      " 34  job_security            12259 non-null  object \n",
      " 35  work_life_balance       12263 non-null  object \n",
      " 36  professional_growth     12249 non-null  object \n",
      " 37  company_culture         12244 non-null  object \n",
      " 38  inclusiveness           12209 non-null  object \n",
      " 39  work_load               12222 non-null  object \n",
      " 40  commute_time            15903 non-null  object \n",
      " 41  military_service        16850 non-null  object \n",
      " 42  disability              16714 non-null  object \n",
      " 43  high_speed_internet     17337 non-null  object \n",
      "dtypes: float64(3), object(41)\n",
      "memory usage: 6.1+ MB\n"
     ]
    }
   ],
   "source": [
    "fcc.info()"
   ]
  },
  {
   "cell_type": "markdown",
   "id": "898a9517",
   "metadata": {},
   "source": [
    "There is a total of 18,126 rows with 44 columns. A lot of these columns have null values, we are going to look at the percentage of entries that are null each column."
   ]
  },
  {
   "cell_type": "code",
   "execution_count": 6,
   "id": "1d5d2bfd",
   "metadata": {},
   "outputs": [],
   "source": [
    "null_percentage = round(fcc.isnull().sum()/fcc.shape[0] * 100, 2)"
   ]
  },
  {
   "cell_type": "code",
   "execution_count": 7,
   "id": "6f11bc7b",
   "metadata": {
    "scrolled": false
   },
   "outputs": [
    {
     "data": {
      "text/plain": [
       "Timestamp                  0.00\n",
       "reason_for_learning        0.74\n",
       "learning_method            1.47\n",
       "online_resources           4.06\n",
       "hours_learning             8.40\n",
       "months_programming         7.89\n",
       "amount_spent              10.88\n",
       "employed_dev               2.50\n",
       "first_dev_job              4.99\n",
       "dev_interest               3.25\n",
       "company_type               3.62\n",
       "career_interest            4.05\n",
       "job_application            3.16\n",
       "expected_earnings         13.10\n",
       "reasons_for_interest       2.97\n",
       "ideal_workdays             5.17\n",
       "relocation                 4.19\n",
       "employment_status          4.57\n",
       "employment_field           6.85\n",
       "previous_year_earnings    15.14\n",
       "age                        5.64\n",
       "gender                     3.66\n",
       "race                       5.16\n",
       "region                     4.92\n",
       "US_state                  26.49\n",
       "country_citizen            5.48\n",
       "ethnic_minority            6.51\n",
       "highest_degree             5.08\n",
       "student                    4.70\n",
       "marital_status             5.35\n",
       "current_job_duration       6.53\n",
       "job_search_duration       31.85\n",
       "earnings                  31.83\n",
       "benefits                  32.26\n",
       "job_security              32.37\n",
       "work_life_balance         32.35\n",
       "professional_growth       32.42\n",
       "company_culture           32.45\n",
       "inclusiveness             32.64\n",
       "work_load                 32.57\n",
       "commute_time              12.26\n",
       "military_service           7.04\n",
       "disability                 7.79\n",
       "high_speed_internet        4.35\n",
       "dtype: float64"
      ]
     },
     "execution_count": 7,
     "metadata": {},
     "output_type": "execute_result"
    }
   ],
   "source": [
    "null_percentage"
   ]
  },
  {
   "cell_type": "markdown",
   "id": "5171be38",
   "metadata": {},
   "source": [
    "Apart from the Timestamp column, every other column have null values varying from less than 1% of the total entries to up to 32% of the total enteries. Because of how high some of these null values are, we can't just drop the rows with null values, we are going to lose a lot of data if we do so. So we are going to try to impute values into this null entries. We are going to look at columns with more than 10% null values and try to figure out how to impute values."
   ]
  },
  {
   "cell_type": "code",
   "execution_count": 8,
   "id": "e10f4875",
   "metadata": {},
   "outputs": [],
   "source": [
    "null_more_10 = null_percentage[null_percentage > 10]"
   ]
  },
  {
   "cell_type": "code",
   "execution_count": 9,
   "id": "8c098c8e",
   "metadata": {},
   "outputs": [
    {
     "data": {
      "text/plain": [
       "Index(['amount_spent', 'expected_earnings', 'previous_year_earnings',\n",
       "       'US_state', 'job_search_duration', 'earnings', 'benefits',\n",
       "       'job_security', 'work_life_balance', 'professional_growth',\n",
       "       'company_culture', 'inclusiveness', 'work_load', 'commute_time'],\n",
       "      dtype='object')"
      ]
     },
     "execution_count": 9,
     "metadata": {},
     "output_type": "execute_result"
    }
   ],
   "source": [
    "null_more_10.index"
   ]
  },
  {
   "cell_type": "code",
   "execution_count": 10,
   "id": "259250e9",
   "metadata": {},
   "outputs": [
    {
     "data": {
      "text/plain": [
       "0         9942\n",
       "NaN       1973\n",
       "100        810\n",
       "200        505\n",
       "50         501\n",
       "          ... \n",
       "400000       1\n",
       "60000        1\n",
       "10300        1\n",
       "410          1\n",
       "364          1\n",
       "Name: amount_spent, Length: 406, dtype: int64"
      ]
     },
     "execution_count": 10,
     "metadata": {},
     "output_type": "execute_result"
    }
   ],
   "source": [
    "fcc['amount_spent'].value_counts(dropna=False)"
   ]
  },
  {
   "cell_type": "code",
   "execution_count": 11,
   "id": "b22f50bb",
   "metadata": {},
   "outputs": [],
   "source": [
    "fcc['amount_spent'] = fcc['amount_spent'].fillna(0)"
   ]
  },
  {
   "cell_type": "code",
   "execution_count": 12,
   "id": "fa1994b0",
   "metadata": {},
   "outputs": [],
   "source": [
    "fcc['amount_spent'] = fcc['amount_spent'].astype(float).astype(int)"
   ]
  },
  {
   "cell_type": "code",
   "execution_count": 13,
   "id": "07529939",
   "metadata": {
    "scrolled": true
   },
   "outputs": [
    {
     "data": {
      "text/plain": [
       "0       11954\n",
       "100       810\n",
       "200       505\n",
       "50        501\n",
       "500       368\n",
       "        ...  \n",
       "9590        1\n",
       "305         1\n",
       "119         1\n",
       "3395        1\n",
       "364         1\n",
       "Name: amount_spent, Length: 337, dtype: int64"
      ]
     },
     "execution_count": 13,
     "metadata": {},
     "output_type": "execute_result"
    }
   ],
   "source": [
    "fcc['amount_spent'].value_counts()"
   ]
  },
  {
   "cell_type": "markdown",
   "id": "26e4a26e",
   "metadata": {},
   "source": [
    "For the `amount_spent` column, all of the null values were replaced with 0. This is assuming that the people who didn't respond to that question did not spend any money during their learning."
   ]
  },
  {
   "cell_type": "code",
   "execution_count": 14,
   "id": "43bbb07b",
   "metadata": {
    "scrolled": true
   },
   "outputs": [
    {
     "data": {
      "text/plain": [
       "$50,000 to $74,999      3116\n",
       "$0 to $4,999            2691\n",
       "NaN                     2375\n",
       "$30,000 to $49,999      2301\n",
       "$10,000 to $20,999      1761\n",
       "$5,000 to $9,999        1740\n",
       "$75,000 to $99,999      1578\n",
       "$20,000 to $29,999      1376\n",
       "$100,000 to $124,999     676\n",
       "$250,000 or over         212\n",
       "$125,000 to $159,999     172\n",
       "$160,000 to $199,999      74\n",
       "$200,000 to $249,999      54\n",
       "Name: expected_earnings, dtype: int64"
      ]
     },
     "execution_count": 14,
     "metadata": {},
     "output_type": "execute_result"
    }
   ],
   "source": [
    "fcc[\"expected_earnings\"].value_counts(dropna=False)"
   ]
  },
  {
   "cell_type": "markdown",
   "id": "1b44153d",
   "metadata": {},
   "source": [
    "The expected earning values is a range, e.g `$50,000 to $74,999`. To fix this we are going to remove the special character, split the string and take the average between the range."
   ]
  },
  {
   "cell_type": "code",
   "execution_count": 15,
   "id": "62797bf6",
   "metadata": {},
   "outputs": [],
   "source": [
    "fcc[\"expected_earnings\"] = fcc[\"expected_earnings\"].str.replace('$', \"\", regex=True).str.replace(\"over\", \"250000\")\n",
    "\n",
    "fcc[\"expected_earnings\"] = fcc[\"expected_earnings\"].str.split()\n",
    "\n",
    "# taking average between range\n",
    "fcc[\"expected_earnings\"] = round((fcc[\"expected_earnings\"].str[0].str.replace(\",\", \"\").astype(float) +\n",
    "       fcc[\"expected_earnings\"].str[2].str.replace(\",\", \"\").astype(float))/2)"
   ]
  },
  {
   "cell_type": "code",
   "execution_count": 16,
   "id": "72f7c2be",
   "metadata": {},
   "outputs": [],
   "source": [
    "fcc[\"expected_earnings\"] = fcc[\"expected_earnings\"].fillna(0)"
   ]
  },
  {
   "cell_type": "code",
   "execution_count": 17,
   "id": "f713ab3d",
   "metadata": {},
   "outputs": [],
   "source": [
    "fcc[\"expected_earnings\"] = fcc[\"expected_earnings\"].astype(int)"
   ]
  },
  {
   "cell_type": "code",
   "execution_count": 18,
   "id": "e9be6757",
   "metadata": {},
   "outputs": [
    {
     "data": {
      "text/plain": [
       "62500     3116\n",
       "2500      2691\n",
       "0         2375\n",
       "40000     2301\n",
       "15500     1761\n",
       "7500      1740\n",
       "87500     1578\n",
       "25000     1376\n",
       "112500     676\n",
       "250000     212\n",
       "142500     172\n",
       "180000      74\n",
       "225000      54\n",
       "Name: expected_earnings, dtype: int64"
      ]
     },
     "execution_count": 18,
     "metadata": {},
     "output_type": "execute_result"
    }
   ],
   "source": [
    "fcc[\"expected_earnings\"].value_counts()"
   ]
  },
  {
   "cell_type": "markdown",
   "id": "5ab99900",
   "metadata": {},
   "source": [
    "For the `expected_earnings` column, after cleaning the data to get the expected earning, I replaced the null values with 0 too."
   ]
  },
  {
   "cell_type": "code",
   "execution_count": 19,
   "id": "a6a4287f",
   "metadata": {
    "scrolled": false
   },
   "outputs": [
    {
     "data": {
      "text/plain": [
       "None                      5234\n",
       "NaN                       2745\n",
       "Under $1,000              1609\n",
       "$1,000 to $2,999           981\n",
       "$10,000 to $14,999         809\n",
       "$3,000 to $4,999           669\n",
       "$20,000 to $24,999         633\n",
       "$40,000 to $49,999         599\n",
       "$5,000 to $6,999           547\n",
       "$15,000 to $19,999         530\n",
       "$50,000 to $59,999         508\n",
       "$7,000 to $9,999           492\n",
       "$30,000 to $34,999         484\n",
       "$25,000 to $29,999         476\n",
       "$60,000 to $74,999         440\n",
       "$35,000 to $39,999         365\n",
       "$75,000 to $89,999         323\n",
       "$90,000 to $119,999        277\n",
       "$120,000 to $159,999       137\n",
       "I don't want to answer     122\n",
       "I don’t know                60\n",
       "$160,000 to $199,999        39\n",
       "$250,000 or over            32\n",
       "$200,000 to $249,999        15\n",
       "Name: previous_year_earnings, dtype: int64"
      ]
     },
     "execution_count": 19,
     "metadata": {},
     "output_type": "execute_result"
    }
   ],
   "source": [
    "fcc['previous_year_earnings'].value_counts(dropna=False)"
   ]
  },
  {
   "cell_type": "markdown",
   "id": "ea9842dd",
   "metadata": {},
   "source": [
    "The `previous_year_earnings` column has the same type of values as the `expected_earnings` column, so we are going to do the same thing and take the average between the range."
   ]
  },
  {
   "cell_type": "code",
   "execution_count": 20,
   "id": "5bdd8959",
   "metadata": {},
   "outputs": [],
   "source": [
    "fcc['previous_year_earnings'] = fcc['previous_year_earnings'].str.replace('$', \"\", regex=True)\n",
    "fcc['previous_year_earnings'] = fcc['previous_year_earnings'].str.split()\n",
    "\n",
    "# taking average between range\n",
    "fcc['previous_year_earnings'] = round(\n",
    "    (fcc['previous_year_earnings'].str[0].str.replace(\",\", \"\").str.replace(\"Under\", \"2000\").str.replace(\"None\", \"0\").str.replace(\"I\", \"0\").astype(float)\n",
    "    + fcc['previous_year_earnings'].str[2].str.replace(\",\", \"\").str.replace(\"want\", \"0\").str.replace(\"over\", \"0\").str.replace(\"know\", \"0\").astype(float).fillna(0)\n",
    "     /2)\n",
    ")"
   ]
  },
  {
   "cell_type": "code",
   "execution_count": 21,
   "id": "41085f31",
   "metadata": {},
   "outputs": [
    {
     "data": {
      "text/plain": [
       "0.0         5416\n",
       "NaN         2745\n",
       "2000.0      1609\n",
       "2500.0       981\n",
       "17500.0      809\n",
       "5500.0       669\n",
       "32500.0      633\n",
       "65000.0      599\n",
       "8500.0       547\n",
       "25000.0      530\n",
       "80000.0      508\n",
       "12000.0      492\n",
       "47500.0      484\n",
       "40000.0      476\n",
       "97500.0      440\n",
       "55000.0      365\n",
       "120000.0     323\n",
       "150000.0     277\n",
       "200000.0     137\n",
       "260000.0      39\n",
       "250000.0      32\n",
       "325000.0      15\n",
       "Name: previous_year_earnings, dtype: int64"
      ]
     },
     "execution_count": 21,
     "metadata": {},
     "output_type": "execute_result"
    }
   ],
   "source": [
    "fcc['previous_year_earnings'].value_counts(dropna=False)"
   ]
  },
  {
   "cell_type": "code",
   "execution_count": 22,
   "id": "8426c4cc",
   "metadata": {},
   "outputs": [],
   "source": [
    "fcc[\"previous_year_earnings\"] = fcc[\"previous_year_earnings\"].fillna(0)"
   ]
  },
  {
   "cell_type": "code",
   "execution_count": 23,
   "id": "e06588ee",
   "metadata": {},
   "outputs": [
    {
     "data": {
      "text/plain": [
       "0.0         8161\n",
       "2000.0      1609\n",
       "2500.0       981\n",
       "17500.0      809\n",
       "5500.0       669\n",
       "32500.0      633\n",
       "65000.0      599\n",
       "8500.0       547\n",
       "25000.0      530\n",
       "80000.0      508\n",
       "12000.0      492\n",
       "47500.0      484\n",
       "40000.0      476\n",
       "97500.0      440\n",
       "55000.0      365\n",
       "120000.0     323\n",
       "150000.0     277\n",
       "200000.0     137\n",
       "260000.0      39\n",
       "250000.0      32\n",
       "325000.0      15\n",
       "Name: previous_year_earnings, dtype: int64"
      ]
     },
     "execution_count": 23,
     "metadata": {},
     "output_type": "execute_result"
    }
   ],
   "source": [
    "fcc[\"previous_year_earnings\"].value_counts(dropna=False)"
   ]
  },
  {
   "cell_type": "code",
   "execution_count": 24,
   "id": "13ad0af9",
   "metadata": {},
   "outputs": [],
   "source": [
    "fcc[\"US_state\"] = fcc[\"US_state\"].fillna(\"unknown\")"
   ]
  },
  {
   "cell_type": "code",
   "execution_count": 25,
   "id": "8ef3e9ff",
   "metadata": {},
   "outputs": [
    {
     "data": {
      "text/plain": [
       "NaN             5774\n",
       "0.000000e+00    4115\n",
       "1.000000e+00    2137\n",
       "2.000000e+00    1379\n",
       "3.000000e+00    1235\n",
       "                ... \n",
       "1.000000e+13       1\n",
       "9.990000e+02       1\n",
       "8.000000e-01       1\n",
       "8.080808e+15       1\n",
       "5.510000e+02       1\n",
       "Name: job_search_duration, Length: 73, dtype: int64"
      ]
     },
     "execution_count": 25,
     "metadata": {},
     "output_type": "execute_result"
    }
   ],
   "source": [
    "fcc[\"job_search_duration\"].value_counts(dropna=False)"
   ]
  },
  {
   "cell_type": "code",
   "execution_count": 26,
   "id": "b81147af",
   "metadata": {},
   "outputs": [],
   "source": [
    "fcc[\"job_search_duration\"] = fcc[\"job_search_duration\"].fillna(0)"
   ]
  },
  {
   "cell_type": "code",
   "execution_count": 27,
   "id": "2ff782bf",
   "metadata": {},
   "outputs": [
    {
     "data": {
      "text/plain": [
       "NaN                      5769\n",
       "Not Applicable           3410\n",
       "Somewhat satisfied       3105\n",
       "Somewhat dissatisfied    2318\n",
       "Very dissatisfied        2184\n",
       "Very satisfied           1073\n",
       "I do not know             267\n",
       "Name: earnings, dtype: int64"
      ]
     },
     "execution_count": 27,
     "metadata": {},
     "output_type": "execute_result"
    }
   ],
   "source": [
    "fcc[\"earnings\"].value_counts(dropna=False)"
   ]
  },
  {
   "cell_type": "code",
   "execution_count": 28,
   "id": "89413a9a",
   "metadata": {},
   "outputs": [
    {
     "data": {
      "text/plain": [
       "NaN                      5847\n",
       "Not Applicable           3854\n",
       "Somewhat satisfied       2716\n",
       "Very dissatisfied        2101\n",
       "Somewhat dissatisfied    1752\n",
       "Very satisfied           1521\n",
       "I do not know             335\n",
       "Name: benefits, dtype: int64"
      ]
     },
     "execution_count": 28,
     "metadata": {},
     "output_type": "execute_result"
    }
   ],
   "source": [
    "fcc[\"benefits\"].value_counts(dropna=False)"
   ]
  },
  {
   "cell_type": "code",
   "execution_count": 29,
   "id": "c749801d",
   "metadata": {},
   "outputs": [],
   "source": [
    "# replacing null values with \"I do not know\"\n",
    "for value in list(null_more_10.index[-9:-1]):\n",
    "    fcc[value] = fcc[value].fillna('I do not know')"
   ]
  },
  {
   "cell_type": "code",
   "execution_count": 30,
   "id": "e5dc11ad",
   "metadata": {},
   "outputs": [
    {
     "data": {
      "text/plain": [
       "I do not know            6182\n",
       "Not Applicable           3854\n",
       "Somewhat satisfied       2716\n",
       "Very dissatisfied        2101\n",
       "Somewhat dissatisfied    1752\n",
       "Very satisfied           1521\n",
       "Name: benefits, dtype: int64"
      ]
     },
     "execution_count": 30,
     "metadata": {},
     "output_type": "execute_result"
    }
   ],
   "source": [
    "fcc[\"benefits\"].value_counts(dropna=False)"
   ]
  },
  {
   "cell_type": "code",
   "execution_count": 31,
   "id": "d4053bc2",
   "metadata": {},
   "outputs": [
    {
     "data": {
      "text/plain": [
       "I am not working        6873\n",
       "I work from home        2980\n",
       "NaN                     2223\n",
       "15 to 29 minutes        1902\n",
       "Less than 15 minutes    1596\n",
       "30 to 44 minutes        1071\n",
       "45 to 60 minutes         770\n",
       "More than 60 minutes     711\n",
       "Name: commute_time, dtype: int64"
      ]
     },
     "execution_count": 31,
     "metadata": {},
     "output_type": "execute_result"
    }
   ],
   "source": [
    "fcc[\"commute_time\"].value_counts(dropna=False)"
   ]
  },
  {
   "cell_type": "code",
   "execution_count": 32,
   "id": "4bb5ab15",
   "metadata": {},
   "outputs": [],
   "source": [
    "fcc[\"commute_time\"] = fcc[\"commute_time\"].fillna('unknown')"
   ]
  },
  {
   "cell_type": "code",
   "execution_count": 33,
   "id": "349a0d51",
   "metadata": {},
   "outputs": [],
   "source": [
    "null_less_10 = null_percentage[null_percentage < 10]"
   ]
  },
  {
   "cell_type": "code",
   "execution_count": 34,
   "id": "9066fd9f",
   "metadata": {},
   "outputs": [
    {
     "data": {
      "text/plain": [
       "Timestamp               0.00\n",
       "reason_for_learning     0.74\n",
       "learning_method         1.47\n",
       "online_resources        4.06\n",
       "hours_learning          8.40\n",
       "months_programming      7.89\n",
       "employed_dev            2.50\n",
       "first_dev_job           4.99\n",
       "dev_interest            3.25\n",
       "company_type            3.62\n",
       "career_interest         4.05\n",
       "job_application         3.16\n",
       "reasons_for_interest    2.97\n",
       "ideal_workdays          5.17\n",
       "relocation              4.19\n",
       "employment_status       4.57\n",
       "employment_field        6.85\n",
       "age                     5.64\n",
       "gender                  3.66\n",
       "race                    5.16\n",
       "region                  4.92\n",
       "country_citizen         5.48\n",
       "ethnic_minority         6.51\n",
       "highest_degree          5.08\n",
       "student                 4.70\n",
       "marital_status          5.35\n",
       "current_job_duration    6.53\n",
       "military_service        7.04\n",
       "disability              7.79\n",
       "high_speed_internet     4.35\n",
       "dtype: float64"
      ]
     },
     "execution_count": 34,
     "metadata": {},
     "output_type": "execute_result"
    }
   ],
   "source": [
    "null_less_10"
   ]
  },
  {
   "cell_type": "markdown",
   "id": "bcf41d9a",
   "metadata": {},
   "source": [
    "For the columns with less than 10% null values, most of the values in the columns are non-numerical and so I have chosen to replace them with `\"Unknown\"`."
   ]
  },
  {
   "cell_type": "code",
   "execution_count": 35,
   "id": "896d3722",
   "metadata": {},
   "outputs": [],
   "source": [
    "for value in null_less_10.index:\n",
    "    fcc[value] = fcc[value].fillna(\"Unknown\")"
   ]
  },
  {
   "cell_type": "code",
   "execution_count": 36,
   "id": "a9a2db8d",
   "metadata": {
    "scrolled": false
   },
   "outputs": [
    {
     "name": "stdout",
     "output_type": "stream",
     "text": [
      "<class 'pandas.core.frame.DataFrame'>\n",
      "RangeIndex: 18126 entries, 0 to 18125\n",
      "Data columns (total 44 columns):\n",
      " #   Column                  Non-Null Count  Dtype  \n",
      "---  ------                  --------------  -----  \n",
      " 0   Timestamp               18126 non-null  object \n",
      " 1   reason_for_learning     18126 non-null  object \n",
      " 2   learning_method         18126 non-null  object \n",
      " 3   online_resources        18126 non-null  object \n",
      " 4   hours_learning          18126 non-null  object \n",
      " 5   months_programming      18126 non-null  object \n",
      " 6   amount_spent            18126 non-null  int32  \n",
      " 7   employed_dev            18126 non-null  object \n",
      " 8   first_dev_job           18126 non-null  object \n",
      " 9   dev_interest            18126 non-null  object \n",
      " 10  company_type            18126 non-null  object \n",
      " 11  career_interest         18126 non-null  object \n",
      " 12  job_application         18126 non-null  object \n",
      " 13  expected_earnings       18126 non-null  int32  \n",
      " 14  reasons_for_interest    18126 non-null  object \n",
      " 15  ideal_workdays          18126 non-null  object \n",
      " 16  relocation              18126 non-null  object \n",
      " 17  employment_status       18126 non-null  object \n",
      " 18  employment_field        18126 non-null  object \n",
      " 19  previous_year_earnings  18126 non-null  float64\n",
      " 20  age                     18126 non-null  object \n",
      " 21  gender                  18126 non-null  object \n",
      " 22  race                    18126 non-null  object \n",
      " 23  region                  18126 non-null  object \n",
      " 24  US_state                18126 non-null  object \n",
      " 25  country_citizen         18126 non-null  object \n",
      " 26  ethnic_minority         18126 non-null  object \n",
      " 27  highest_degree          18126 non-null  object \n",
      " 28  student                 18126 non-null  object \n",
      " 29  marital_status          18126 non-null  object \n",
      " 30  current_job_duration    18126 non-null  object \n",
      " 31  job_search_duration     18126 non-null  float64\n",
      " 32  earnings                18126 non-null  object \n",
      " 33  benefits                18126 non-null  object \n",
      " 34  job_security            18126 non-null  object \n",
      " 35  work_life_balance       18126 non-null  object \n",
      " 36  professional_growth     18126 non-null  object \n",
      " 37  company_culture         18126 non-null  object \n",
      " 38  inclusiveness           18126 non-null  object \n",
      " 39  work_load               18126 non-null  object \n",
      " 40  commute_time            18126 non-null  object \n",
      " 41  military_service        18126 non-null  object \n",
      " 42  disability              18126 non-null  object \n",
      " 43  high_speed_internet     18126 non-null  object \n",
      "dtypes: float64(2), int32(2), object(40)\n",
      "memory usage: 5.9+ MB\n"
     ]
    }
   ],
   "source": [
    "fcc.info()"
   ]
  },
  {
   "cell_type": "markdown",
   "id": "8a520d28",
   "metadata": {},
   "source": [
    "We've somehow managed to deal with the null values. Now we can answer certain questions."
   ]
  },
  {
   "cell_type": "markdown",
   "id": "19b151b4",
   "metadata": {},
   "source": [
    "## Why are people interested in coding?\n",
    "Our goal here is to figure out the major reasons people are learning to code."
   ]
  },
  {
   "cell_type": "code",
   "execution_count": 37,
   "id": "46b31e3f",
   "metadata": {},
   "outputs": [
    {
     "data": {
      "text/plain": [
       "To change careers                                                                                   4988\n",
       "To start your first career                                                                          4834\n",
       "To start a business or to freelance                                                                 2469\n",
       "To succeed in current career                                                                        2089\n",
       "As a hobby                                                                                          2043\n",
       "To create art or entertainment                                                                       484\n",
       "To meet school requirements                                                                          282\n",
       "Unknown                                                                                              135\n",
       "To change the world                                                                                    4\n",
       "Curiosity                                                                                              4\n",
       "To make money                                                                                          2\n",
       "To make the world a better place.                                                                      2\n",
       "knowledge                                                                                              2\n",
       "All the above                                                                                          2\n",
       "Hobby and to change career or to build some apllication that I have in mind for some time now ;]       2\n",
       "I just like it                                                                                         2\n",
       "To earn money                                                                                          2\n",
       "To succeed in future career                                                                            2\n",
       "To add a new skill                                                                                     2\n",
       "I am a CS major                                                                                        1\n",
       "Name: reason_for_learning, dtype: int64"
      ]
     },
     "execution_count": 37,
     "metadata": {},
     "output_type": "execute_result"
    }
   ],
   "source": [
    "# top 20 reasons people are learning to code\n",
    "fcc[\"reason_for_learning\"].value_counts().sort_values(ascending=False).head(20)"
   ]
  },
  {
   "cell_type": "code",
   "execution_count": 38,
   "id": "5be18b9a",
   "metadata": {
    "scrolled": false
   },
   "outputs": [
    {
     "data": {
      "image/png": "[encoded data removed]",
      "text/plain": [
       "<Figure size 864x432 with 1 Axes>"
      ]
     },
     "metadata": {
      "needs_background": "light"
     },
     "output_type": "display_data"
    }
   ],
   "source": [
    "ax, fig = plt.subplots(figsize=(12, 6))\n",
    "ax = fcc[\"reason_for_learning\"].value_counts().sort_values(ascending=False).head(7).plot.barh(color='green')\n",
    "ax.tick_params(bottom=0, left=0) # removing the bottom and left ticks\n",
    "\n",
    "# removing the spines\n",
    "spines = [\"top\", \"bottom\", \"right\", \"left\"]\n",
    "for spine in spines:\n",
    "    ax.spines[spine].set_visible(False)\n",
    "\n",
    "# adding vertical grid lines\n",
    "ax.grid(axis=\"x\", alpha=0.3)\n",
    "\n",
    "ax.set_xlabel(\"Frequency\", weight=\"bold\", size=12)\n",
    "ax.set_ylabel(\"Reason for learning\", weight=\"bold\", size=12)\n",
    "\n",
    "ax.set_title(\"Top Reasons People Learn Coding\", weight=\"bold\", size=15)\n",
    "ax.text(1000, 6.2, \"The most common Reason people are learning to code is to change careers\",\n",
    "       size=12)\n",
    "\n",
    "# adding source text\n",
    "ax.text(-1500,-2, \"©Abomaye\" +\" \"*250 + \"Source: FreeCodeCamp\",\n",
    "       color=\"#f0f0f0\", backgroundcolor=\"#4d4d4d\")\n",
    "\n",
    "plt.show()"
   ]
  },
  {
   "cell_type": "markdown",
   "id": "934fc99e",
   "metadata": {},
   "source": [
    "The most common reasons people are learning to code are to change careers, start a first career or to start a business or freelance. Of course there are other reasons but these are the most common three reasons."
   ]
  },
  {
   "cell_type": "markdown",
   "id": "87d96260",
   "metadata": {},
   "source": [
    "## What career path are people most interested in?\n",
    "We have just answered why people are learning to code, here we wamt to find out what career path they are most interested in. We also want to find out the interest in each specific region."
   ]
  },
  {
   "cell_type": "code",
   "execution_count": 39,
   "id": "5d6de382",
   "metadata": {},
   "outputs": [
    {
     "data": {
      "text/plain": [
       "Full-Stack Web Developer                                5759\n",
       "Front-End Web Developer                                 2063\n",
       "Data Scientist                                          1995\n",
       "Game Developer                                          1400\n",
       "Back-End Web Developer                                   895\n",
       "Information Security                                     864\n",
       "Unknown                                                  737\n",
       "I am not interested in a software development career     659\n",
       "Mobile Developer                                         643\n",
       "Data Engineer                                            481\n",
       "Name: career_interest, dtype: int64"
      ]
     },
     "execution_count": 39,
     "metadata": {},
     "output_type": "execute_result"
    }
   ],
   "source": [
    "fcc[\"career_interest\"].value_counts().head(10)"
   ]
  },
  {
   "cell_type": "code",
   "execution_count": 40,
   "id": "d958e60d",
   "metadata": {
    "scrolled": false
   },
   "outputs": [
    {
     "data": {
      "image/png": "[encoded data removed]",
      "text/plain": [
       "<Figure size 864x432 with 1 Axes>"
      ]
     },
     "metadata": {
      "needs_background": "light"
     },
     "output_type": "display_data"
    }
   ],
   "source": [
    "ax, fig = plt.subplots(figsize=(12, 6))\n",
    "ax = fcc[\"career_interest\"].value_counts().head(11).drop(\"I am not interested in a software development career\").plot.barh(color='green')\n",
    "ax.tick_params(bottom=0, left=0)\n",
    "spines = [\"top\", \"bottom\", \"right\", \"left\"]\n",
    "for spine in spines:\n",
    "    ax.spines[spine].set_visible(False)\n",
    "ax.grid(axis=\"x\", alpha=0.3)\n",
    "ax.set_xlabel(\"Frequency\", weight=\"bold\", size=12)\n",
    "ax.set_ylabel(\"Career path\", weight=\"bold\", size=12)\n",
    "ax.text(50, 11, \"Most People Are Interested In Web Development\",\n",
    "       weight=\"bold\", size=15)\n",
    "ax.text(70, 10.5, \"Over 5,000 people Said They Were Interested in Fullstack Web Development\",\n",
    "       size=12)\n",
    "ax.text(-1500,-2, \"©Abomaye\" +\" \"*250 + \"Source: FreeCodeCamp\",\n",
    "       color=\"#f0f0f0\", backgroundcolor=\"#4d4d4d\")\n",
    "\n",
    "plt.show()"
   ]
  },
  {
   "cell_type": "code",
   "execution_count": 41,
   "id": "b2fc6c72",
   "metadata": {},
   "outputs": [
    {
     "data": {
      "text/plain": [
       "North America                   4984\n",
       "Europe and Central Asia         3406\n",
       "South Asia                      2316\n",
       "Latin America and Caribbean     2197\n",
       "Southeast Asia                  1546\n",
       "Sub-Saharan Africa              1377\n",
       "Unknown                          892\n",
       "Middle East and North Africa     881\n",
       "East Asia and Pacific            527\n",
       "Name: region, dtype: int64"
      ]
     },
     "execution_count": 41,
     "metadata": {},
     "output_type": "execute_result"
    }
   ],
   "source": [
    "fcc[\"region\"].value_counts()"
   ]
  },
  {
   "cell_type": "code",
   "execution_count": 42,
   "id": "69a00f8b",
   "metadata": {},
   "outputs": [],
   "source": [
    "region_grp = fcc.groupby(\"region\")"
   ]
  },
  {
   "cell_type": "code",
   "execution_count": 43,
   "id": "d1d1ef37",
   "metadata": {},
   "outputs": [],
   "source": [
    "regions = []\n",
    "for i in fcc[\"region\"].value_counts().index:\n",
    "    region = region_grp.get_group(i)\n",
    "    regions.append(region)"
   ]
  },
  {
   "cell_type": "code",
   "execution_count": 44,
   "id": "1e156d6f",
   "metadata": {
    "scrolled": false
   },
   "outputs": [
    {
     "data": {
      "image/png": "[encoded data removed]",
      "text/plain": [
       "<Figure size 864x432 with 1 Axes>"
      ]
     },
     "metadata": {
      "needs_background": "light"
     },
     "output_type": "display_data"
    }
   ],
   "source": [
    "ax, fig = plt.subplots(figsize=(12, 6))\n",
    "ax = regions[0][\"career_interest\"].value_counts().head(5).plot.barh(color=\"green\")\n",
    "ax.tick_params(bottom=0, left=0)\n",
    "spines = [\"top\", \"bottom\", \"right\", \"left\"]\n",
    "for spine in spines:\n",
    "    ax.spines[spine].set_visible(False)\n",
    "    \n",
    "ax.grid(axis=\"x\", alpha=0.3)\n",
    "plt.title(regions[0][\"region\"].value_counts().head(1).index.values[0], weight=\"bold\")\n",
    "ax.set_xlabel(\"Frequency\", weight=\"bold\", size=12)\n",
    "ax.set_ylabel(\"Career path\", weight=\"bold\", size=12)\n",
    "ax.text(-300,-2, \"©Abomaye\" +\" \"*250 + \"Source: FreeCodeCamp\",\n",
    "       color=\"#f0f0f0\", backgroundcolor=\"#4d4d4d\")\n",
    "\n",
    "plt.show()"
   ]
  },
  {
   "cell_type": "code",
   "execution_count": 45,
   "id": "253372e4",
   "metadata": {},
   "outputs": [
    {
     "data": {
      "image/png": "[encoded data removed]",
      "text/plain": [
       "<Figure size 864x432 with 1 Axes>"
      ]
     },
     "metadata": {
      "needs_background": "light"
     },
     "output_type": "display_data"
    }
   ],
   "source": [
    "ax, fig = plt.subplots(figsize=(12, 6))\n",
    "ax = regions[1][\"career_interest\"].value_counts().head(5).plot.barh(color='green')\n",
    "ax.tick_params(bottom=0, left=0)\n",
    "spines = [\"top\", \"bottom\", \"right\", \"left\"]\n",
    "for spine in spines:\n",
    "    ax.spines[spine].set_visible(False)\n",
    "\n",
    "ax.grid(axis=\"x\", alpha=0.3)\n",
    "plt.title(regions[1][\"region\"].value_counts().head(1).index.values[0], weight=\"bold\")\n",
    "ax.set_xlabel(\"Frequency\", weight=\"bold\", size=12)\n",
    "ax.set_ylabel(\"Career path\", weight=\"bold\", size=12)\n",
    "ax.text(-300,-2, \"©Abomaye\" +\" \"*250 + \"Source: FreeCodeCamp\",\n",
    "       color=\"#f0f0f0\", backgroundcolor=\"#4d4d4d\")\n",
    "\n",
    "plt.show()"
   ]
  },
  {
   "cell_type": "code",
   "execution_count": 46,
   "id": "ebf4b16a",
   "metadata": {
    "scrolled": false
   },
   "outputs": [
    {
     "data": {
      "image/png": "[encoded data removed]",
      "text/plain": [
       "<Figure size 864x432 with 1 Axes>"
      ]
     },
     "metadata": {
      "needs_background": "light"
     },
     "output_type": "display_data"
    }
   ],
   "source": [
    "ax, fig = plt.subplots(figsize=(12, 6))\n",
    "ax = regions[2][\"career_interest\"].value_counts().head(5).plot.barh(color='green')\n",
    "ax.tick_params(bottom=0, left=0)\n",
    "spines = [\"top\", \"bottom\", \"right\", \"left\"]\n",
    "for spine in spines:\n",
    "    ax.spines[spine].set_visible(False)\n",
    "\n",
    "ax.grid(axis=\"x\", alpha=0.3)\n",
    "plt.title(regions[2][\"region\"].value_counts().head(1).index.values[0], weight=\"bold\")\n",
    "ax.set_xlabel(\"Frequency\", weight=\"bold\", size=12)\n",
    "ax.set_ylabel(\"Career path\", weight=\"bold\", size=12)\n",
    "ax.text(-250,-2, \"©Abomaye\" +\" \"*250 + \"Source: FreeCodeCamp\",\n",
    "       color=\"#f0f0f0\", backgroundcolor=\"#4d4d4d\")\n",
    "\n",
    "plt.show()"
   ]
  },
  {
   "cell_type": "code",
   "execution_count": 47,
   "id": "e16b8112",
   "metadata": {
    "scrolled": false
   },
   "outputs": [
    {
     "data": {
      "image/png": "[encoded data removed]",
      "text/plain": [
       "<Figure size 864x432 with 1 Axes>"
      ]
     },
     "metadata": {
      "needs_background": "light"
     },
     "output_type": "display_data"
    }
   ],
   "source": [
    "ax, fig = plt.subplots(figsize=(12, 6))\n",
    "ax = regions[5][\"career_interest\"].value_counts().head(5).plot.barh(color='green')\n",
    "ax.tick_params(bottom=0, left=0)\n",
    "spines = [\"top\", \"bottom\", \"right\", \"left\"]\n",
    "for spine in spines:\n",
    "    ax.spines[spine].set_visible(False)\n",
    "\n",
    "ax.grid(axis=\"x\", alpha=0.3)\n",
    "plt.title(regions[5][\"region\"].value_counts().head(1).index.values[0], weight=\"bold\")\n",
    "ax.set_xlabel(\"Frequency\", weight=\"bold\", size=12)\n",
    "ax.set_ylabel(\"Career path\", weight=\"bold\", size=12)\n",
    "ax.text(-150,-2, \"©Abomaye\" +\" \"*250 + \"Source: FreeCodeCamp\",\n",
    "       color=\"#f0f0f0\", backgroundcolor=\"#4d4d4d\")\n",
    "\n",
    "plt.show()"
   ]
  },
  {
   "cell_type": "markdown",
   "id": "f14d6d19",
   "metadata": {},
   "source": [
    "In general people are interested in web devlopment, especially fullstack web development. Even when looked at granularly by taking into account the interest in each region, web development is still the dominant skill people are interested in."
   ]
  },
  {
   "cell_type": "markdown",
   "id": "007e2743",
   "metadata": {},
   "source": [
    "## How much are people willing to spend on learning and what resources are they using?\n",
    "Here we want to figure out just how much people spend in pursuit of their tech careers and what resource they use in learning."
   ]
  },
  {
   "cell_type": "code",
   "execution_count": 48,
   "id": "ffcb98c9",
   "metadata": {
    "scrolled": false
   },
   "outputs": [
    {
     "data": {
      "text/plain": [
       "count    1.812600e+04\n",
       "mean    -1.179471e+05\n",
       "std      1.595068e+07\n",
       "min     -2.147484e+09\n",
       "25%      0.000000e+00\n",
       "50%      0.000000e+00\n",
       "75%      5.000000e+01\n",
       "max      2.500001e+06\n",
       "Name: amount_spent, dtype: float64"
      ]
     },
     "execution_count": 48,
     "metadata": {},
     "output_type": "execute_result"
    }
   ],
   "source": [
    "fcc['amount_spent'].describe()"
   ]
  },
  {
   "cell_type": "markdown",
   "id": "0954d0a4",
   "metadata": {},
   "source": [
    "Looking at the description of the `amount_spent` column, one of the first things you notice is that the mean is a huge negative number. This is because the minimum value is -2,147,483,648. We also have the maximum amount to be around 2,500,001 which is a rather unlikely amount to be spent on learning. Let's explore these two entries further."
   ]
  },
  {
   "cell_type": "code",
   "execution_count": 49,
   "id": "c4c9c53a",
   "metadata": {
    "scrolled": false
   },
   "outputs": [
    {
     "data": {
      "text/html": [
       "<div>\n",
       "<style scoped>\n",
       "    .dataframe tbody tr th:only-of-type {\n",
       "        vertical-align: middle;\n",
       "    }\n",
       "\n",
       "    .dataframe tbody tr th {\n",
       "        vertical-align: top;\n",
       "    }\n",
       "\n",
       "    .dataframe thead th {\n",
       "        text-align: right;\n",
       "    }\n",
       "</style>\n",
       "<table border=\"1\" class=\"dataframe\">\n",
       "  <thead>\n",
       "    <tr style=\"text-align: right;\">\n",
       "      <th></th>\n",
       "      <th>Timestamp</th>\n",
       "      <th>reason_for_learning</th>\n",
       "      <th>learning_method</th>\n",
       "      <th>online_resources</th>\n",
       "      <th>hours_learning</th>\n",
       "      <th>months_programming</th>\n",
       "      <th>amount_spent</th>\n",
       "      <th>employed_dev</th>\n",
       "      <th>first_dev_job</th>\n",
       "      <th>dev_interest</th>\n",
       "      <th>company_type</th>\n",
       "      <th>career_interest</th>\n",
       "      <th>job_application</th>\n",
       "      <th>expected_earnings</th>\n",
       "      <th>reasons_for_interest</th>\n",
       "      <th>ideal_workdays</th>\n",
       "      <th>relocation</th>\n",
       "      <th>employment_status</th>\n",
       "      <th>employment_field</th>\n",
       "      <th>previous_year_earnings</th>\n",
       "      <th>age</th>\n",
       "      <th>gender</th>\n",
       "      <th>race</th>\n",
       "      <th>region</th>\n",
       "      <th>US_state</th>\n",
       "      <th>country_citizen</th>\n",
       "      <th>ethnic_minority</th>\n",
       "      <th>highest_degree</th>\n",
       "      <th>student</th>\n",
       "      <th>marital_status</th>\n",
       "      <th>current_job_duration</th>\n",
       "      <th>job_search_duration</th>\n",
       "      <th>earnings</th>\n",
       "      <th>benefits</th>\n",
       "      <th>job_security</th>\n",
       "      <th>work_life_balance</th>\n",
       "      <th>professional_growth</th>\n",
       "      <th>company_culture</th>\n",
       "      <th>inclusiveness</th>\n",
       "      <th>work_load</th>\n",
       "      <th>commute_time</th>\n",
       "      <th>military_service</th>\n",
       "      <th>disability</th>\n",
       "      <th>high_speed_internet</th>\n",
       "    </tr>\n",
       "  </thead>\n",
       "  <tbody>\n",
       "    <tr>\n",
       "      <th>392</th>\n",
       "      <td>2021-07-09 02:37:14</td>\n",
       "      <td>To change the evolution of evolution</td>\n",
       "      <td>My mind. Our minds.</td>\n",
       "      <td>All of the above and none of the above.</td>\n",
       "      <td>0.0</td>\n",
       "      <td>666</td>\n",
       "      <td>-2147483648</td>\n",
       "      <td>No</td>\n",
       "      <td>Yes</td>\n",
       "      <td>I am already a developer</td>\n",
       "      <td>ME</td>\n",
       "      <td>evol ME</td>\n",
       "      <td>I am already applying</td>\n",
       "      <td>40000</td>\n",
       "      <td>I am not interested in a software development ...</td>\n",
       "      <td>2 days from home and 3 days in an office</td>\n",
       "      <td>Yes</td>\n",
       "      <td>EVOLME EVOLME evolme</td>\n",
       "      <td>evolutionary biology and chemistry and biochem...</td>\n",
       "      <td>0.0</td>\n",
       "      <td>45.0</td>\n",
       "      <td>Both</td>\n",
       "      <td>ALIENTY you are doing well</td>\n",
       "      <td>Middle East and North Africa</td>\n",
       "      <td>I am not living in the US</td>\n",
       "      <td>Yes</td>\n",
       "      <td>Yes</td>\n",
       "      <td>No high school (secondary school)</td>\n",
       "      <td>Yes</td>\n",
       "      <td>Single, never married</td>\n",
       "      <td>more than 3 years</td>\n",
       "      <td>8.080808e+15</td>\n",
       "      <td>Very satisfied</td>\n",
       "      <td>Not Applicable</td>\n",
       "      <td>Very satisfied</td>\n",
       "      <td>Not Applicable</td>\n",
       "      <td>Very satisfied</td>\n",
       "      <td>Not Applicable</td>\n",
       "      <td>Very satisfied</td>\n",
       "      <td>Not Applicable</td>\n",
       "      <td>I work from home</td>\n",
       "      <td>Not applicable</td>\n",
       "      <td>No</td>\n",
       "      <td>Yes</td>\n",
       "    </tr>\n",
       "    <tr>\n",
       "      <th>4937</th>\n",
       "      <td>2021-08-11 09:38:52</td>\n",
       "      <td>To start a business or to freelance</td>\n",
       "      <td>Online resources, Books, Online bootcamps, Mee...</td>\n",
       "      <td>freeCodeCamp, Stack Overflow, Coursera, Codeca...</td>\n",
       "      <td>7.0</td>\n",
       "      <td>360</td>\n",
       "      <td>2500001</td>\n",
       "      <td>No</td>\n",
       "      <td>I am not employed as a developer</td>\n",
       "      <td>Yes</td>\n",
       "      <td>Start your own business</td>\n",
       "      <td>BlockChain Security</td>\n",
       "      <td>Within 7 to 12 months from now</td>\n",
       "      <td>112500</td>\n",
       "      <td>I love solving problems, I want to make the wo...</td>\n",
       "      <td>4 days from home and 1 day in an office</td>\n",
       "      <td>Maybe</td>\n",
       "      <td>Full-time employed for wages</td>\n",
       "      <td>Manufacturing</td>\n",
       "      <td>17500.0</td>\n",
       "      <td>44.0</td>\n",
       "      <td>Male</td>\n",
       "      <td>Southeast Asian</td>\n",
       "      <td>Southeast Asia</td>\n",
       "      <td>I am not living in the US</td>\n",
       "      <td>No</td>\n",
       "      <td>Yes</td>\n",
       "      <td>Bachelor’s degree</td>\n",
       "      <td>No</td>\n",
       "      <td>Married or domestic partnership</td>\n",
       "      <td>more than 3 years</td>\n",
       "      <td>1.000000e+00</td>\n",
       "      <td>Very dissatisfied</td>\n",
       "      <td>Somewhat satisfied</td>\n",
       "      <td>Very dissatisfied</td>\n",
       "      <td>Very dissatisfied</td>\n",
       "      <td>Very dissatisfied</td>\n",
       "      <td>Very dissatisfied</td>\n",
       "      <td>Very dissatisfied</td>\n",
       "      <td>Very dissatisfied</td>\n",
       "      <td>45 to 60 minutes</td>\n",
       "      <td>No</td>\n",
       "      <td>No</td>\n",
       "      <td>Yes</td>\n",
       "    </tr>\n",
       "  </tbody>\n",
       "</table>\n",
       "</div>"
      ],
      "text/plain": [
       "                Timestamp                   reason_for_learning  \\\n",
       "392   2021-07-09 02:37:14  To change the evolution of evolution   \n",
       "4937  2021-08-11 09:38:52   To start a business or to freelance   \n",
       "\n",
       "                                        learning_method  \\\n",
       "392                                 My mind. Our minds.   \n",
       "4937  Online resources, Books, Online bootcamps, Mee...   \n",
       "\n",
       "                                       online_resources hours_learning  \\\n",
       "392             All of the above and none of the above.            0.0   \n",
       "4937  freeCodeCamp, Stack Overflow, Coursera, Codeca...            7.0   \n",
       "\n",
       "     months_programming  amount_spent employed_dev  \\\n",
       "392                 666   -2147483648           No   \n",
       "4937                360       2500001           No   \n",
       "\n",
       "                         first_dev_job              dev_interest  \\\n",
       "392                                Yes  I am already a developer   \n",
       "4937  I am not employed as a developer                       Yes   \n",
       "\n",
       "                 company_type      career_interest  \\\n",
       "392                        ME              evol ME   \n",
       "4937  Start your own business  BlockChain Security   \n",
       "\n",
       "                     job_application  expected_earnings  \\\n",
       "392            I am already applying              40000   \n",
       "4937  Within 7 to 12 months from now             112500   \n",
       "\n",
       "                                   reasons_for_interest  \\\n",
       "392   I am not interested in a software development ...   \n",
       "4937  I love solving problems, I want to make the wo...   \n",
       "\n",
       "                                ideal_workdays relocation  \\\n",
       "392   2 days from home and 3 days in an office        Yes   \n",
       "4937   4 days from home and 1 day in an office      Maybe   \n",
       "\n",
       "                 employment_status  \\\n",
       "392          EVOLME EVOLME evolme    \n",
       "4937  Full-time employed for wages   \n",
       "\n",
       "                                       employment_field  \\\n",
       "392   evolutionary biology and chemistry and biochem...   \n",
       "4937                                      Manufacturing   \n",
       "\n",
       "      previous_year_earnings   age gender                        race  \\\n",
       "392                      0.0  45.0   Both  ALIENTY you are doing well   \n",
       "4937                 17500.0  44.0   Male             Southeast Asian   \n",
       "\n",
       "                            region                   US_state country_citizen  \\\n",
       "392   Middle East and North Africa  I am not living in the US             Yes   \n",
       "4937                Southeast Asia  I am not living in the US              No   \n",
       "\n",
       "     ethnic_minority                     highest_degree student  \\\n",
       "392              Yes  No high school (secondary school)     Yes   \n",
       "4937             Yes                  Bachelor’s degree      No   \n",
       "\n",
       "                       marital_status current_job_duration  \\\n",
       "392             Single, never married    more than 3 years   \n",
       "4937  Married or domestic partnership    more than 3 years   \n",
       "\n",
       "      job_search_duration           earnings            benefits  \\\n",
       "392          8.080808e+15     Very satisfied      Not Applicable   \n",
       "4937         1.000000e+00  Very dissatisfied  Somewhat satisfied   \n",
       "\n",
       "           job_security  work_life_balance professional_growth  \\\n",
       "392      Very satisfied     Not Applicable      Very satisfied   \n",
       "4937  Very dissatisfied  Very dissatisfied   Very dissatisfied   \n",
       "\n",
       "        company_culture      inclusiveness          work_load  \\\n",
       "392      Not Applicable     Very satisfied     Not Applicable   \n",
       "4937  Very dissatisfied  Very dissatisfied  Very dissatisfied   \n",
       "\n",
       "          commute_time military_service disability high_speed_internet  \n",
       "392   I work from home   Not applicable         No                 Yes  \n",
       "4937  45 to 60 minutes               No         No                 Yes  "
      ]
     },
     "execution_count": 49,
     "metadata": {},
     "output_type": "execute_result"
    }
   ],
   "source": [
    "fcc[(fcc[\"amount_spent\"]==-2147483648) | (fcc[\"amount_spent\"]==2500001)]"
   ]
  },
  {
   "cell_type": "markdown",
   "id": "0f5e9b52",
   "metadata": {},
   "source": [
    "For the entry with the huge negative number, we can see that the respondent was clearly making a joke and so we are going to drop that entry. The other entry belongs to a respondent who has been programming for 30 years and that could be the reason for such a huge amount. However, we are still going to drop that entry."
   ]
  },
  {
   "cell_type": "code",
   "execution_count": 50,
   "id": "5499c409",
   "metadata": {},
   "outputs": [],
   "source": [
    "fcc.drop(392, inplace=True)"
   ]
  },
  {
   "cell_type": "code",
   "execution_count": 51,
   "id": "8ba84311",
   "metadata": {},
   "outputs": [],
   "source": [
    "fcc.drop(4937, inplace=True)"
   ]
  },
  {
   "cell_type": "code",
   "execution_count": 52,
   "id": "12348101",
   "metadata": {
    "scrolled": true
   },
   "outputs": [
    {
     "data": {
      "text/plain": [
       "count     18124.000000\n",
       "mean        390.370834\n",
       "std        4415.802473\n",
       "min           0.000000\n",
       "25%           0.000000\n",
       "50%           0.000000\n",
       "75%          50.000000\n",
       "max      400000.000000\n",
       "Name: amount_spent, dtype: float64"
      ]
     },
     "execution_count": 52,
     "metadata": {},
     "output_type": "execute_result"
    }
   ],
   "source": [
    "fcc[\"amount_spent\"].describe()"
   ]
  },
  {
   "cell_type": "markdown",
   "id": "0aee40b9",
   "metadata": {},
   "source": [
    "Looking at the description again, with the defective entries removed, we have a mean of 390, minimum of 0 and a maximum of 400,000. We have a median value of 0, this means that people are more likely to learn for free than to spend money on learning.\n",
    "We are going to visualize the distirbution of people who have spent at least a dollar but no more than 1000."
   ]
  },
  {
   "cell_type": "code",
   "execution_count": 53,
   "id": "1ff1a0bb",
   "metadata": {
    "scrolled": false
   },
   "outputs": [
    {
     "data": {
      "image/png": "[encoded data removed]",
      "text/plain": [
       "<Figure size 864x432 with 1 Axes>"
      ]
     },
     "metadata": {
      "needs_background": "light"
     },
     "output_type": "display_data"
    }
   ],
   "source": [
    "ax, fig = plt.subplots(figsize=(12, 6))\n",
    "ax = fcc[(fcc[\"amount_spent\"] < 1000) & (fcc[\"amount_spent\"] > 0) ][\"amount_spent\"].plot.hist(color='green')\n",
    "ax.tick_params(bottom=0, left=0)\n",
    "spines = [\"top\", \"bottom\", \"right\", \"left\"]\n",
    "for spine in spines:\n",
    "    ax.spines[spine].set_visible(False)\n",
    "ax.grid(True, alpha=0.3) # adding grid line\n",
    "ax.set_title(\"Distribution of Amount Spent on Learning by Coders\", weight=\"bold\")\n",
    "plt.show()"
   ]
  },
  {
   "cell_type": "markdown",
   "id": "55403787",
   "metadata": {},
   "source": [
    "Our distribution is right skewed. For our distribution of respondents who have spent at least a dollar but not more than 1000, we see that majority of the respondents have spent between 0 to 100 dollars. It is pretty uncommon to spend around 1000 dollars. We are also going to look at the distibution of the amount spent each month."
   ]
  },
  {
   "cell_type": "code",
   "execution_count": 54,
   "id": "42284944",
   "metadata": {},
   "outputs": [],
   "source": [
    "fcc[\"months_programming\"] = fcc[\"months_programming\"].replace(\"Unknown\", 0)"
   ]
  },
  {
   "cell_type": "code",
   "execution_count": 55,
   "id": "155d9efb",
   "metadata": {},
   "outputs": [],
   "source": [
    "fcc[\"months_programming\"] = fcc[\"months_programming\"].astype(float).astype(int)"
   ]
  },
  {
   "cell_type": "code",
   "execution_count": 56,
   "id": "09559dcf",
   "metadata": {
    "scrolled": true
   },
   "outputs": [
    {
     "data": {
      "text/plain": [
       "0       4230\n",
       "1       2715\n",
       "2       1521\n",
       "3       1233\n",
       "12      1083\n",
       "        ... \n",
       "600        1\n",
       "372        1\n",
       "1973       1\n",
       "62         1\n",
       "129        1\n",
       "Name: months_programming, Length: 154, dtype: int64"
      ]
     },
     "execution_count": 56,
     "metadata": {},
     "output_type": "execute_result"
    }
   ],
   "source": [
    "fcc[\"months_programming\"].value_counts()"
   ]
  },
  {
   "cell_type": "code",
   "execution_count": 57,
   "id": "0f01c522",
   "metadata": {
    "scrolled": true
   },
   "outputs": [],
   "source": [
    "fcc[\"months_programming\"] = fcc[\"months_programming\"].replace(0, 1)"
   ]
  },
  {
   "cell_type": "code",
   "execution_count": 58,
   "id": "6a2e1f30",
   "metadata": {
    "scrolled": true
   },
   "outputs": [
    {
     "data": {
      "text/plain": [
       "0       12304\n",
       "1         364\n",
       "2         322\n",
       "50        306\n",
       "5         270\n",
       "        ...  \n",
       "2083        1\n",
       "1598        1\n",
       "119         1\n",
       "3395        1\n",
       "121         1\n",
       "Name: amount_per_month, Length: 332, dtype: int64"
      ]
     },
     "execution_count": 58,
     "metadata": {},
     "output_type": "execute_result"
    }
   ],
   "source": [
    "fcc[\"amount_per_month\"] = (fcc[\"amount_spent\"]/fcc[\"months_programming\"]).astype(int)\n",
    "fcc[\"amount_per_month\"].value_counts()"
   ]
  },
  {
   "cell_type": "code",
   "execution_count": 59,
   "id": "db42baf6",
   "metadata": {},
   "outputs": [
    {
     "data": {
      "text/plain": [
       "count     18124.000000\n",
       "mean         84.148146\n",
       "std        1881.642603\n",
       "min           0.000000\n",
       "25%           0.000000\n",
       "50%           0.000000\n",
       "75%           5.000000\n",
       "max      222000.000000\n",
       "Name: amount_per_month, dtype: float64"
      ]
     },
     "execution_count": 59,
     "metadata": {},
     "output_type": "execute_result"
    }
   ],
   "source": [
    "fcc[\"amount_per_month\"].describe()"
   ]
  },
  {
   "cell_type": "code",
   "execution_count": 60,
   "id": "e47f682e",
   "metadata": {
    "scrolled": false
   },
   "outputs": [
    {
     "data": {
      "image/png": "[encoded data removed]",
      "text/plain": [
       "<Figure size 864x432 with 1 Axes>"
      ]
     },
     "metadata": {
      "needs_background": "light"
     },
     "output_type": "display_data"
    }
   ],
   "source": [
    "ax, fig = plt.subplots(figsize=(12, 6))\n",
    "ax = fcc[(fcc[\"amount_per_month\"]>0) & (fcc[\"amount_per_month\"]<100)][\"amount_per_month\"].plot.hist(color='green')\n",
    "ax.tick_params(bottom=0, left=0)\n",
    "spines = [\"top\", \"bottom\", \"right\", \"left\"]\n",
    "for spine in spines:\n",
    "    ax.spines[spine].set_visible(False)\n",
    "ax.grid(True, alpha=0.3)\n",
    "ax.set_title(\"Distribution of Monthly Amount Spent on Learning by Coders\", weight=\"bold\")\n",
    "plt.show()"
   ]
  },
  {
   "cell_type": "markdown",
   "id": "e0fe5933",
   "metadata": {},
   "source": [
    "The distibution of the amount spent monthly is unsurprisingly the same as the distribution of the amount spent. So let's look by the average amount spent by respondents in each region."
   ]
  },
  {
   "cell_type": "code",
   "execution_count": 61,
   "id": "844355bd",
   "metadata": {},
   "outputs": [],
   "source": [
    "average_amount_region = fcc.groupby(\"region\")[[\"amount_spent\", \"amount_per_month\"]].mean() # groups the data by the region and aggregate by the mean"
   ]
  },
  {
   "cell_type": "code",
   "execution_count": 62,
   "id": "5569f668",
   "metadata": {
    "scrolled": true
   },
   "outputs": [
    {
     "data": {
      "text/html": [
       "<div>\n",
       "<style scoped>\n",
       "    .dataframe tbody tr th:only-of-type {\n",
       "        vertical-align: middle;\n",
       "    }\n",
       "\n",
       "    .dataframe tbody tr th {\n",
       "        vertical-align: top;\n",
       "    }\n",
       "\n",
       "    .dataframe thead th {\n",
       "        text-align: right;\n",
       "    }\n",
       "</style>\n",
       "<table border=\"1\" class=\"dataframe\">\n",
       "  <thead>\n",
       "    <tr style=\"text-align: right;\">\n",
       "      <th></th>\n",
       "      <th>amount_spent</th>\n",
       "      <th>amount_per_month</th>\n",
       "    </tr>\n",
       "    <tr>\n",
       "      <th>region</th>\n",
       "      <th></th>\n",
       "      <th></th>\n",
       "    </tr>\n",
       "  </thead>\n",
       "  <tbody>\n",
       "    <tr>\n",
       "      <th>North America</th>\n",
       "      <td>692.254414</td>\n",
       "      <td>131.822030</td>\n",
       "    </tr>\n",
       "    <tr>\n",
       "      <th>East Asia and Pacific</th>\n",
       "      <td>545.671727</td>\n",
       "      <td>147.127135</td>\n",
       "    </tr>\n",
       "    <tr>\n",
       "      <th>South Asia</th>\n",
       "      <td>432.791883</td>\n",
       "      <td>131.249568</td>\n",
       "    </tr>\n",
       "    <tr>\n",
       "      <th>Middle East and North Africa</th>\n",
       "      <td>387.980682</td>\n",
       "      <td>83.628409</td>\n",
       "    </tr>\n",
       "    <tr>\n",
       "      <th>Europe and Central Asia</th>\n",
       "      <td>305.771873</td>\n",
       "      <td>54.778039</td>\n",
       "    </tr>\n",
       "    <tr>\n",
       "      <th>Latin America and Caribbean</th>\n",
       "      <td>207.555303</td>\n",
       "      <td>35.579882</td>\n",
       "    </tr>\n",
       "    <tr>\n",
       "      <th>Sub-Saharan Africa</th>\n",
       "      <td>162.177923</td>\n",
       "      <td>61.327524</td>\n",
       "    </tr>\n",
       "    <tr>\n",
       "      <th>Southeast Asia</th>\n",
       "      <td>132.984466</td>\n",
       "      <td>28.449191</td>\n",
       "    </tr>\n",
       "    <tr>\n",
       "      <th>Unknown</th>\n",
       "      <td>75.458520</td>\n",
       "      <td>22.255605</td>\n",
       "    </tr>\n",
       "  </tbody>\n",
       "</table>\n",
       "</div>"
      ],
      "text/plain": [
       "                              amount_spent  amount_per_month\n",
       "region                                                      \n",
       "North America                   692.254414        131.822030\n",
       "East Asia and Pacific           545.671727        147.127135\n",
       "South Asia                      432.791883        131.249568\n",
       "Middle East and North Africa    387.980682         83.628409\n",
       "Europe and Central Asia         305.771873         54.778039\n",
       "Latin America and Caribbean     207.555303         35.579882\n",
       "Sub-Saharan Africa              162.177923         61.327524\n",
       "Southeast Asia                  132.984466         28.449191\n",
       "Unknown                          75.458520         22.255605"
      ]
     },
     "execution_count": 62,
     "metadata": {},
     "output_type": "execute_result"
    }
   ],
   "source": [
    "average_amount_region.sort_values(\"amount_spent\", ascending=False)"
   ]
  },
  {
   "cell_type": "code",
   "execution_count": 63,
   "id": "17986ce7",
   "metadata": {
    "scrolled": false
   },
   "outputs": [
    {
     "data": {
      "image/png": "[encoded data removed]",
      "text/plain": [
       "<Figure size 864x432 with 1 Axes>"
      ]
     },
     "metadata": {
      "needs_background": "light"
     },
     "output_type": "display_data"
    }
   ],
   "source": [
    "ax = average_amount_region.sort_values(\"amount_spent\", ascending=False).drop(\"Unknown\").plot.bar(figsize=(12, 6),\n",
    "                                                                                               color=[\"green\", \"orange\"])\n",
    "spines = [\"top\", \"bottom\", \"right\", \"left\"]\n",
    "for spine in spines:\n",
    "    ax.spines[spine].set_visible(False)\n",
    "ax.grid(True, alpha=0.3, axis=\"y\")\n",
    "ax.tick_params(bottom=0, left=0)\n",
    "plt.xticks(rotation=45)\n",
    "plt.legend(labels=[\"amount spent\", \"amount spent per month\"])\n",
    "plt.ylabel(\"Average Amount Spent\", weight=\"bold\")\n",
    "plt.xlabel(\"Region\", weight=\"bold\")\n",
    "ax.text(-1, -430, \"©Abomaye\" +\" \"*200 + \"Source: FreeCodeCamp\",\n",
    "       color=\"#f0f0f0\", backgroundcolor=\"#4d4d4d\")\n",
    "plt.title(\"Average Amount Spent By Region\", weight=\"bold\")\n",
    "plt.show()"
   ]
  },
  {
   "cell_type": "markdown",
   "id": "d54cc8a4",
   "metadata": {},
   "source": [
    "On average, people in North America spend the most, then East Asia, South Asia, etc. But there are lot of outliers in the amount spent. One way to visualize these outliers is to use a box plot."
   ]
  },
  {
   "cell_type": "code",
   "execution_count": 64,
   "id": "18e14dad",
   "metadata": {
    "scrolled": false
   },
   "outputs": [
    {
     "data": {
      "image/png": "[encoded data removed]",
      "text/plain": [
       "<Figure size 864x432 with 1 Axes>"
      ]
     },
     "metadata": {
      "needs_background": "light"
     },
     "output_type": "display_data"
    }
   ],
   "source": [
    "# generating a box plot of the amount spent\n",
    "plt.figure(figsize=(12,6))\n",
    "ax = sns.boxplot(data=fcc, x=\"region\", y=\"amount_spent\")\n",
    "spines = [\"top\", \"bottom\", \"right\", \"left\"]\n",
    "for spine in spines:\n",
    "    ax.spines[spine].set_visible(False)\n",
    "plt.xticks(rotation=45)\n",
    "plt.show()"
   ]
  },
  {
   "cell_type": "markdown",
   "id": "9ba9cf84",
   "metadata": {},
   "source": [
    "Looking at the box plot, most values up of 50,000 are outliers. So we are going to drop rows where the amount spent is greater than 50,000 and then visualize the data again."
   ]
  },
  {
   "cell_type": "code",
   "execution_count": 65,
   "id": "bae4a1f4",
   "metadata": {},
   "outputs": [
    {
     "data": {
      "text/html": [
       "<div>\n",
       "<style scoped>\n",
       "    .dataframe tbody tr th:only-of-type {\n",
       "        vertical-align: middle;\n",
       "    }\n",
       "\n",
       "    .dataframe tbody tr th {\n",
       "        vertical-align: top;\n",
       "    }\n",
       "\n",
       "    .dataframe thead th {\n",
       "        text-align: right;\n",
       "    }\n",
       "</style>\n",
       "<table border=\"1\" class=\"dataframe\">\n",
       "  <thead>\n",
       "    <tr style=\"text-align: right;\">\n",
       "      <th></th>\n",
       "      <th>amount_spent</th>\n",
       "      <th>amount_per_month</th>\n",
       "    </tr>\n",
       "    <tr>\n",
       "      <th>region</th>\n",
       "      <th></th>\n",
       "      <th></th>\n",
       "    </tr>\n",
       "  </thead>\n",
       "  <tbody>\n",
       "    <tr>\n",
       "      <th>North America</th>\n",
       "      <td>692.254414</td>\n",
       "      <td>131.822030</td>\n",
       "    </tr>\n",
       "    <tr>\n",
       "      <th>East Asia and Pacific</th>\n",
       "      <td>356.595057</td>\n",
       "      <td>52.349810</td>\n",
       "    </tr>\n",
       "    <tr>\n",
       "      <th>South Asia</th>\n",
       "      <td>337.082505</td>\n",
       "      <td>35.409935</td>\n",
       "    </tr>\n",
       "    <tr>\n",
       "      <th>Middle East and North Africa</th>\n",
       "      <td>331.539249</td>\n",
       "      <td>26.840728</td>\n",
       "    </tr>\n",
       "    <tr>\n",
       "      <th>Europe and Central Asia</th>\n",
       "      <td>305.771873</td>\n",
       "      <td>54.778039</td>\n",
       "    </tr>\n",
       "    <tr>\n",
       "      <th>Latin America and Caribbean</th>\n",
       "      <td>207.555303</td>\n",
       "      <td>35.579882</td>\n",
       "    </tr>\n",
       "    <tr>\n",
       "      <th>Southeast Asia</th>\n",
       "      <td>132.984466</td>\n",
       "      <td>28.449191</td>\n",
       "    </tr>\n",
       "    <tr>\n",
       "      <th>Sub-Saharan Africa</th>\n",
       "      <td>125.958576</td>\n",
       "      <td>25.034884</td>\n",
       "    </tr>\n",
       "    <tr>\n",
       "      <th>Unknown</th>\n",
       "      <td>75.458520</td>\n",
       "      <td>22.255605</td>\n",
       "    </tr>\n",
       "  </tbody>\n",
       "</table>\n",
       "</div>"
      ],
      "text/plain": [
       "                              amount_spent  amount_per_month\n",
       "region                                                      \n",
       "North America                   692.254414        131.822030\n",
       "East Asia and Pacific           356.595057         52.349810\n",
       "South Asia                      337.082505         35.409935\n",
       "Middle East and North Africa    331.539249         26.840728\n",
       "Europe and Central Asia         305.771873         54.778039\n",
       "Latin America and Caribbean     207.555303         35.579882\n",
       "Southeast Asia                  132.984466         28.449191\n",
       "Sub-Saharan Africa              125.958576         25.034884\n",
       "Unknown                          75.458520         22.255605"
      ]
     },
     "execution_count": 65,
     "metadata": {},
     "output_type": "execute_result"
    }
   ],
   "source": [
    "# removing outlier and grouping by region and aggregating by mean\n",
    "average_amount_region_no_outliers = fcc[fcc[\"amount_per_month\"]<50000].groupby(\"region\")[[\"amount_spent\", \"amount_per_month\"]].mean()\n",
    "average_amount_region_no_outliers.sort_values(\"amount_spent\", ascending=False)"
   ]
  },
  {
   "cell_type": "code",
   "execution_count": 66,
   "id": "7de79bab",
   "metadata": {
    "scrolled": false
   },
   "outputs": [
    {
     "data": {
      "image/png": "[encoded data removed]",
      "text/plain": [
       "<Figure size 864x432 with 1 Axes>"
      ]
     },
     "metadata": {
      "needs_background": "light"
     },
     "output_type": "display_data"
    }
   ],
   "source": [
    "ax = average_amount_region_no_outliers.sort_values(\"amount_spent\", ascending=False).drop(\"Unknown\").plot.bar(figsize=(12, 6),\n",
    "                                                                                                            color=[\"green\", \"orange\"])\n",
    "spines = [\"top\", \"bottom\", \"right\", \"left\"]\n",
    "for spine in spines:\n",
    "    ax.spines[spine].set_visible(False)\n",
    "ax.grid(True, alpha=0.3, axis=\"y\")\n",
    "ax.tick_params(bottom=0, left=0)\n",
    "plt.xticks(rotation=45)\n",
    "plt.legend(labels=[\"amount spent\", \"amount spent per month\"])\n",
    "plt.ylabel(\"Average Amount Spent\", weight=\"bold\")\n",
    "plt.xlabel(\"Region\", weight=\"bold\")\n",
    "ax.text(-1, -430, \"©Abomaye\" +\" \"*200 + \"Source: FreeCodeCamp\",\n",
    "       color=\"#f0f0f0\", backgroundcolor=\"#4d4d4d\")\n",
    "plt.title(\"Average Amount Spent By Region\", weight=\"bold\")\n",
    "plt.show()"
   ]
  },
  {
   "cell_type": "markdown",
   "id": "49f1e7ad",
   "metadata": {},
   "source": [
    "After removing the outliers, North America still remains the region where the most money is spent. However, Sub-Saharan Africa has moved to the region with the least amount spent."
   ]
  },
  {
   "cell_type": "markdown",
   "id": "7b8827da",
   "metadata": {},
   "source": [
    "To get the count of the most used resources, we are going to split the `online_resources` column by `\",\"` and the create a frequency table for each online resource using a dictionary."
   ]
  },
  {
   "cell_type": "code",
   "execution_count": 67,
   "id": "ffbe9bd3",
   "metadata": {},
   "outputs": [],
   "source": [
    "fcc[\"online_resources\"] = fcc[\"online_resources\"].str.split(\",\")"
   ]
  },
  {
   "cell_type": "code",
   "execution_count": 68,
   "id": "d85d686a",
   "metadata": {
    "scrolled": false
   },
   "outputs": [
    {
     "data": {
      "text/html": [
       "<div>\n",
       "<style scoped>\n",
       "    .dataframe tbody tr th:only-of-type {\n",
       "        vertical-align: middle;\n",
       "    }\n",
       "\n",
       "    .dataframe tbody tr th {\n",
       "        vertical-align: top;\n",
       "    }\n",
       "\n",
       "    .dataframe thead th {\n",
       "        text-align: right;\n",
       "    }\n",
       "</style>\n",
       "<table border=\"1\" class=\"dataframe\">\n",
       "  <thead>\n",
       "    <tr style=\"text-align: right;\">\n",
       "      <th></th>\n",
       "      <th>count</th>\n",
       "    </tr>\n",
       "  </thead>\n",
       "  <tbody>\n",
       "    <tr>\n",
       "      <th>freeCodeCamp</th>\n",
       "      <td>14510</td>\n",
       "    </tr>\n",
       "    <tr>\n",
       "      <th>Mozilla Developer Network (MDN)</th>\n",
       "      <td>4540</td>\n",
       "    </tr>\n",
       "    <tr>\n",
       "      <th>Stack Overflow</th>\n",
       "      <td>7445</td>\n",
       "    </tr>\n",
       "    <tr>\n",
       "      <th>Khan Academy</th>\n",
       "      <td>2723</td>\n",
       "    </tr>\n",
       "    <tr>\n",
       "      <th>EdX</th>\n",
       "      <td>2351</td>\n",
       "    </tr>\n",
       "    <tr>\n",
       "      <th>...</th>\n",
       "      <td>...</td>\n",
       "    </tr>\n",
       "    <tr>\n",
       "      <th>Youtube.com</th>\n",
       "      <td>1</td>\n",
       "    </tr>\n",
       "    <tr>\n",
       "      <th>None yet. First time</th>\n",
       "      <td>1</td>\n",
       "    </tr>\n",
       "    <tr>\n",
       "      <th>nodeschool.io</th>\n",
       "      <td>1</td>\n",
       "    </tr>\n",
       "    <tr>\n",
       "      <th>Cisco Netacad</th>\n",
       "      <td>1</td>\n",
       "    </tr>\n",
       "    <tr>\n",
       "      <th>several Youtube Channels</th>\n",
       "      <td>1</td>\n",
       "    </tr>\n",
       "  </tbody>\n",
       "</table>\n",
       "<p>2117 rows × 1 columns</p>\n",
       "</div>"
      ],
      "text/plain": [
       "                                  count\n",
       "freeCodeCamp                      14510\n",
       " Mozilla Developer Network (MDN)   4540\n",
       " Stack Overflow                    7445\n",
       " Khan Academy                      2723\n",
       " EdX                               2351\n",
       "...                                 ...\n",
       "Youtube.com                           1\n",
       "None yet. First time                  1\n",
       " nodeschool.io                        1\n",
       " Cisco Netacad                        1\n",
       " several Youtube Channels             1\n",
       "\n",
       "[2117 rows x 1 columns]"
      ]
     },
     "execution_count": 68,
     "metadata": {},
     "output_type": "execute_result"
    }
   ],
   "source": [
    "# getting resources count\n",
    "resources_count = {}\n",
    "for index, row in fcc.iterrows():\n",
    "    for resource in row[\"online_resources\"]:\n",
    "        if resource in resources_count:\n",
    "            resources_count[resource] += 1\n",
    "        else:\n",
    "            resources_count[resource] = 1\n",
    "            \n",
    "online_resources = pd.DataFrame.from_dict(resources_count, orient=\"index\", columns=[\"count\"])\n",
    "online_resources"
   ]
  },
  {
   "cell_type": "code",
   "execution_count": 69,
   "id": "7be3cc10",
   "metadata": {
    "scrolled": false
   },
   "outputs": [
    {
     "data": {
      "image/png": "[encoded data removed]",
      "text/plain": [
       "<Figure size 864x432 with 1 Axes>"
      ]
     },
     "metadata": {
      "needs_background": "light"
     },
     "output_type": "display_data"
    }
   ],
   "source": [
    "# plotting the top 10 most common online_resource\n",
    "ax = online_resources.sort_values(\"count\", ascending=False).head(10).plot.barh(figsize=(12, 6), color=\"green\")\n",
    "spines = [\"top\", \"bottom\", \"right\", \"left\"]\n",
    "for spine in spines:\n",
    "    ax.spines[spine].set_visible(False)\n",
    "ax.tick_params(bottom=0, left=0)\n",
    "ax.grid(axis=\"x\", alpha=0.3)\n",
    "ax.set_xlabel(\"Count\", weight=\"bold\", size=12)\n",
    "ax.set_ylabel(\"Online resource\", weight=\"bold\", size=12)\n",
    "plt.title(\"Top Online Resources\", weight=\"bold\", size=15)\n",
    "ax.text(4000, 9, \"FreeCodeCamp is the most common online resource used\", size=12)\n",
    "ax.text(-2000,-3, \"©Abomaye\" +\" \"*200 + \"Source: FreeCodeCamp\",\n",
    "       color=\"#f0f0f0\", backgroundcolor=\"#4d4d4d\")\n",
    "plt.show()\n"
   ]
  },
  {
   "cell_type": "markdown",
   "id": "dd2be204",
   "metadata": {},
   "source": [
    "FreeCodeCamp is by far the most common online resource used by respondents, followed by Stack Overflow, Udemy, etc."
   ]
  },
  {
   "cell_type": "markdown",
   "id": "e98e263e",
   "metadata": {},
   "source": [
    "## How much do new devs expect to earn?\n",
    "We are interested in how much new devs expect to earn and how it compares to devs who are already employed but have no more than 2 years experience."
   ]
  },
  {
   "cell_type": "code",
   "execution_count": 70,
   "id": "da059cf4",
   "metadata": {
    "scrolled": false
   },
   "outputs": [
    {
     "data": {
      "text/plain": [
       "Yes                         14562\n",
       "I am already a developer     1657\n",
       "No                           1316\n",
       "Unknown                       589\n",
       "Name: dev_interest, dtype: int64"
      ]
     },
     "execution_count": 70,
     "metadata": {},
     "output_type": "execute_result"
    }
   ],
   "source": [
    "fcc[\"dev_interest\"].value_counts()"
   ]
  },
  {
   "cell_type": "markdown",
   "id": "7aac6fab",
   "metadata": {},
   "source": [
    "14,562 respondents are interested in becoming a dev."
   ]
  },
  {
   "cell_type": "code",
   "execution_count": 71,
   "id": "909a64ee",
   "metadata": {
    "scrolled": true
   },
   "outputs": [
    {
     "data": {
      "text/plain": [
       "No         15916\n",
       "Yes         1755\n",
       "Unknown      453\n",
       "Name: employed_dev, dtype: int64"
      ]
     },
     "execution_count": 71,
     "metadata": {},
     "output_type": "execute_result"
    }
   ],
   "source": [
    "fcc[\"employed_dev\"].value_counts()"
   ]
  },
  {
   "cell_type": "markdown",
   "id": "080d8106",
   "metadata": {},
   "source": [
    "Out of all the respondents who took the survey, 1,755 of them are employed as devs."
   ]
  },
  {
   "cell_type": "code",
   "execution_count": 72,
   "id": "0312d4b0",
   "metadata": {},
   "outputs": [],
   "source": [
    "# filtering to get respondents with dev interest and not employed\n",
    "new_devs = fcc[(fcc[\"dev_interest\"] == \"Yes\") & (fcc[\"employed_dev\"] == \"No\") ].copy()"
   ]
  },
  {
   "cell_type": "code",
   "execution_count": 73,
   "id": "36a58cee",
   "metadata": {},
   "outputs": [
    {
     "data": {
      "text/plain": [
       "(14126, 45)"
      ]
     },
     "execution_count": 73,
     "metadata": {},
     "output_type": "execute_result"
    }
   ],
   "source": [
    "new_devs.shape"
   ]
  },
  {
   "cell_type": "code",
   "execution_count": 74,
   "id": "70b12c01",
   "metadata": {},
   "outputs": [
    {
     "data": {
      "image/png": "[encoded data removed]",
      "text/plain": [
       "<Figure size 864x432 with 1 Axes>"
      ]
     },
     "metadata": {
      "needs_background": "light"
     },
     "output_type": "display_data"
    }
   ],
   "source": [
    "ax, fig = plt.subplots(figsize=(12, 6))\n",
    "ax = new_devs[\"expected_earnings\"].plot.hist(color=\"green\")\n",
    "ax.tick_params(bottom=0, left=0)\n",
    "spines = [\"top\", \"bottom\", \"right\", \"left\"]\n",
    "for spine in spines:\n",
    "    ax.spines[spine].set_visible(False)\n",
    "ax.grid(True, alpha=0.3)\n",
    "ax.set_title(\"Distribution of Expected Earning of Coders\", weight=\"bold\")\n",
    "# adding mean and median verticle lines\n",
    "ax.axvline(new_devs[\"expected_earnings\"].mean(), color=\"red\")\n",
    "ax.axvline(new_devs[\"expected_earnings\"].median(), color=\"yellow\")\n",
    "ax.text(new_devs[\"expected_earnings\"].mean(), 7800, \"Mean line\")\n",
    "ax.text((new_devs[\"expected_earnings\"].median()-15000), 7800, \"Median line\")\n",
    "\n",
    "plt.show()"
   ]
  },
  {
   "cell_type": "code",
   "execution_count": 75,
   "id": "168f4d1c",
   "metadata": {},
   "outputs": [
    {
     "data": {
      "text/plain": [
       "39628"
      ]
     },
     "execution_count": 75,
     "metadata": {},
     "output_type": "execute_result"
    }
   ],
   "source": [
    "round(new_devs[\"expected_earnings\"].mean())"
   ]
  },
  {
   "cell_type": "markdown",
   "id": "c058f26a",
   "metadata": {},
   "source": [
    "On average, new devs expect to earn around 39,000 dollars."
   ]
  },
  {
   "cell_type": "code",
   "execution_count": 76,
   "id": "637c786e",
   "metadata": {},
   "outputs": [
    {
     "data": {
      "text/plain": [
       "25000.0"
      ]
     },
     "execution_count": 76,
     "metadata": {},
     "output_type": "execute_result"
    }
   ],
   "source": [
    "new_devs[\"expected_earnings\"].median()"
   ]
  },
  {
   "cell_type": "markdown",
   "id": "b15e27fd",
   "metadata": {},
   "source": [
    "If we look at the median, then the expected earnings for new devs is 25,000 dollars. From the histogram, the median seems to be a more representative amount of how much new devs expect to earn."
   ]
  },
  {
   "cell_type": "code",
   "execution_count": 77,
   "id": "00f69273",
   "metadata": {},
   "outputs": [],
   "source": [
    "# filtering for employed devs with no more than 2 years experience and have earned a salary\n",
    "employed_new_devs = fcc[((fcc[\"employed_dev\"] == \"Yes\" ) & \n",
    "                         (fcc[\"months_programming\"] <= 24) & \n",
    "                         (fcc[\"previous_year_earnings\"] > 0))].copy()"
   ]
  },
  {
   "cell_type": "code",
   "execution_count": 78,
   "id": "710763a8",
   "metadata": {},
   "outputs": [
    {
     "data": {
      "text/plain": [
       "(671, 45)"
      ]
     },
     "execution_count": 78,
     "metadata": {},
     "output_type": "execute_result"
    }
   ],
   "source": [
    "employed_new_devs.shape"
   ]
  },
  {
   "cell_type": "markdown",
   "id": "982399b3",
   "metadata": {},
   "source": [
    "Out of all the respondents who are already employed as devs, 671 of them have no more than 2 years experience and have earned a salary."
   ]
  },
  {
   "cell_type": "code",
   "execution_count": 79,
   "id": "7325b6a7",
   "metadata": {},
   "outputs": [
    {
     "data": {
      "image/png": "[encoded data removed]",
      "text/plain": [
       "<Figure size 864x432 with 1 Axes>"
      ]
     },
     "metadata": {
      "needs_background": "light"
     },
     "output_type": "display_data"
    }
   ],
   "source": [
    "ax, fig = plt.subplots(figsize=(12, 6))\n",
    "ax = employed_new_devs[\"previous_year_earnings\"].plot.hist(color=\"green\")\n",
    "ax.tick_params(bottom=0, left=0)\n",
    "spines = [\"top\", \"bottom\", \"right\", \"left\"]\n",
    "for spine in spines:\n",
    "    ax.spines[spine].set_visible(False)\n",
    "ax.grid(True, alpha=0.3)\n",
    "ax.set_title(\"Distribution of Previous Earning of Coders\", weight=\"bold\")\n",
    "# adding mean and median verticle lines\n",
    "ax.axvline(employed_new_devs[\"previous_year_earnings\"].mean(), color=\"red\")\n",
    "ax.axvline(employed_new_devs[\"previous_year_earnings\"].median(), color=\"yellow\")\n",
    "ax.text(employed_new_devs[\"previous_year_earnings\"].mean(), 550, \"Mean line\")\n",
    "ax.text((employed_new_devs[\"previous_year_earnings\"].median()-15000), 550, \"Median line\")\n",
    "\n",
    "plt.show()"
   ]
  },
  {
   "cell_type": "code",
   "execution_count": 80,
   "id": "4c855228",
   "metadata": {},
   "outputs": [
    {
     "data": {
      "text/plain": [
       "32829"
      ]
     },
     "execution_count": 80,
     "metadata": {},
     "output_type": "execute_result"
    }
   ],
   "source": [
    "round(employed_new_devs[\"previous_year_earnings\"].mean())"
   ]
  },
  {
   "cell_type": "code",
   "execution_count": 81,
   "id": "069315fe",
   "metadata": {
    "scrolled": true
   },
   "outputs": [
    {
     "data": {
      "text/plain": [
       "12000.0"
      ]
     },
     "execution_count": 81,
     "metadata": {},
     "output_type": "execute_result"
    }
   ],
   "source": [
    "employed_new_devs[\"previous_year_earnings\"].median()"
   ]
  },
  {
   "cell_type": "code",
   "execution_count": 82,
   "id": "9929d43f",
   "metadata": {},
   "outputs": [
    {
     "data": {
      "text/plain": [
       "count       671.000000\n",
       "mean      32828.614009\n",
       "std       46418.453462\n",
       "min        2000.000000\n",
       "25%        2500.000000\n",
       "50%       12000.000000\n",
       "75%       40000.000000\n",
       "max      325000.000000\n",
       "Name: previous_year_earnings, dtype: float64"
      ]
     },
     "execution_count": 82,
     "metadata": {},
     "output_type": "execute_result"
    }
   ],
   "source": [
    "employed_new_devs[\"previous_year_earnings\"].describe()"
   ]
  },
  {
   "cell_type": "markdown",
   "id": "aa280049",
   "metadata": {},
   "source": [
    "The average salary earned by devs with no more than 2 years experience is 32,829 dollars while the median is 12,000 dollars. The median is a more representative value than the mean for most of the respondents. Therefore, going forward, we'll be working with the median as it is less susceptible to outliers."
   ]
  },
  {
   "cell_type": "code",
   "execution_count": 83,
   "id": "1c7ffc18",
   "metadata": {
    "scrolled": true
   },
   "outputs": [
    {
     "data": {
      "text/plain": [
       "region\n",
       "North America                   62500.0\n",
       "East Asia and Pacific           40000.0\n",
       "Europe and Central Asia         25000.0\n",
       "Latin America and Caribbean     15500.0\n",
       "Middle East and North Africa    15500.0\n",
       "South Asia                      15500.0\n",
       "Sub-Saharan Africa              15500.0\n",
       "Southeast Asia                   7500.0\n",
       "Unknown                          7500.0\n",
       "Name: expected_earnings, dtype: float64"
      ]
     },
     "execution_count": 83,
     "metadata": {},
     "output_type": "execute_result"
    }
   ],
   "source": [
    "# grouping the new_devs data by region and aggregating by the median\n",
    "new_devs.groupby(\"region\")[\"expected_earnings\"].median().sort_values(ascending=False)"
   ]
  },
  {
   "cell_type": "code",
   "execution_count": 84,
   "id": "e434e18a",
   "metadata": {
    "scrolled": false
   },
   "outputs": [
    {
     "data": {
      "image/png": "[encoded data removed]",
      "text/plain": [
       "<Figure size 864x432 with 1 Axes>"
      ]
     },
     "metadata": {
      "needs_background": "light"
     },
     "output_type": "display_data"
    }
   ],
   "source": [
    "# plotting the median expected earning\n",
    "colors = [\"green\" ,\"green\", \"green\", \"green\", \"green\", \"green\", \"purple\", \"green\"]\n",
    "ax = new_devs.groupby(\"region\")[\"expected_earnings\"].median().sort_values(ascending=False).drop(\"Unknown\").plot.bar(color=colors, \n",
    "                                                                                                                  figsize=(12, 6))\n",
    "                                                                                                               \n",
    "spines = [\"top\", \"bottom\", \"right\", \"left\"]\n",
    "for spine in spines:\n",
    "    ax.spines[spine].set_visible(False)\n",
    "ax.grid(True, alpha=0.3, axis=\"y\")\n",
    "ax.tick_params(bottom=0, left=0)\n",
    "plt.xticks(rotation=45)\n",
    "plt.ylabel(\"Median Expected Salary($)\", weight= \"bold\")\n",
    "plt.xlabel(\"Region\", weight=\"bold\")\n",
    "ax.text(1, 62000, \"The median salary expectations for devs in Sub-Saharan Africa is $15,500\",\n",
    "        size=12)\n",
    "ax.text(-1, -32000, \"©Abomaye\" +\" \"*200 + \"Source: FreeCodeCamp\",\n",
    "       color=\"#f0f0f0\", backgroundcolor=\"#4d4d4d\")\n",
    "plt.title(\"Median Expected Salary Of Devs With No Experience\",\n",
    "          weight=\"bold\")\n",
    "plt.show()\n"
   ]
  },
  {
   "cell_type": "markdown",
   "id": "c9822168",
   "metadata": {},
   "source": [
    "Devs in North America expect higher salaries than devs in other regions. Devs in Southeast Asia have the least exoectations."
   ]
  },
  {
   "cell_type": "code",
   "execution_count": 85,
   "id": "3452036b",
   "metadata": {
    "scrolled": true
   },
   "outputs": [
    {
     "data": {
      "text/plain": [
       "region\n",
       "North America                   65000.0\n",
       "East Asia and Pacific           47500.0\n",
       "Europe and Central Asia         25000.0\n",
       "Latin America and Caribbean      5500.0\n",
       "South Asia                       5500.0\n",
       "Southeast Asia                   5500.0\n",
       "Middle East and North Africa     2500.0\n",
       "Sub-Saharan Africa               2500.0\n",
       "Unknown                          2250.0\n",
       "Name: previous_year_earnings, dtype: float64"
      ]
     },
     "execution_count": 85,
     "metadata": {},
     "output_type": "execute_result"
    }
   ],
   "source": [
    "# grouping employed_new_devs by region and aggregating by the median\n",
    "employed_new_devs.groupby(\"region\")[\"previous_year_earnings\"].median().sort_values(ascending=False)"
   ]
  },
  {
   "cell_type": "code",
   "execution_count": 86,
   "id": "d326d1c1",
   "metadata": {
    "scrolled": false
   },
   "outputs": [
    {
     "data": {
      "image/png": "[encoded data removed]",
      "text/plain": [
       "<Figure size 864x432 with 1 Axes>"
      ]
     },
     "metadata": {
      "needs_background": "light"
     },
     "output_type": "display_data"
    }
   ],
   "source": [
    "# plotting the median previous year earnings\n",
    "colors = [\"green\" ,\"green\", \"green\", \"green\", \"green\", \"green\", \"green\", \"purple\"]\n",
    "ax = employed_new_devs.groupby(\"region\")[\"previous_year_earnings\"].median().sort_values(ascending=False).drop(\"Unknown\").plot.bar(color=colors, \n",
    "                                                                                                                                figsize=(12, 6))                                     \n",
    "spines = [\"top\", \"bottom\", \"right\", \"left\"]\n",
    "for spine in spines:\n",
    "    ax.spines[spine].set_visible(False)\n",
    "ax.grid(True, alpha=0.3, axis=\"y\")\n",
    "ax.tick_params(bottom=0, left=0)\n",
    "plt.xticks(rotation=45)\n",
    "plt.ylabel(\"Median Salary($)\", weight= \"bold\")\n",
    "plt.xlabel(\"Region\", weight=\"bold\")\n",
    "ax.text(1.4, 64000, \"The median earning of devs in Sub-Saharan Africa is $2,500\",\n",
    "        size=12)\n",
    "ax.text(-1, -32000, \"©Abomaye\" +\" \"*200 + \"Source: FreeCodeCamp\",\n",
    "       color=\"#f0f0f0\", backgroundcolor=\"#4d4d4d\")\n",
    "plt.title(\"Median Salary Of Devs With At Most 2 Years Experience\",\n",
    "          weight=\"bold\")\n",
    "plt.show()"
   ]
  },
  {
   "cell_type": "markdown",
   "id": "c10b16a6",
   "metadata": {},
   "source": [
    "Comparing the expectations with the actual earnings, there is a clear drop in the actual earning, with devs in most regions earning less than the expected salaries of new devs. People in North America still earn the most with a median salary of 40,000 dollars. Devs in the region I'm from earn(Sub-Saharn Africa) earn the least with a median salary of 1,000 dollars which is 90% less than what new devs from the region expect to earn. It is also important to note that the number of devs with no more than 2 years experience that have earned a salary from our survey data is 671 and so while this is an interesting insight I don't think it is very representative."
   ]
  },
  {
   "cell_type": "markdown",
   "id": "22bf846d",
   "metadata": {},
   "source": [
    "## Are dev jobs inclusive?\n",
    "We want to look at the data of devs who are already employed and find out what percentage gender minority and racial minority make up.\n"
   ]
  },
  {
   "cell_type": "code",
   "execution_count": 87,
   "id": "8a5a681e",
   "metadata": {},
   "outputs": [],
   "source": [
    "employed_dev = fcc[fcc[\"employed_dev\"] == \"Yes\"].copy()"
   ]
  },
  {
   "cell_type": "code",
   "execution_count": 88,
   "id": "58332080",
   "metadata": {},
   "outputs": [
    {
     "data": {
      "text/plain": [
       "(1755, 45)"
      ]
     },
     "execution_count": 88,
     "metadata": {},
     "output_type": "execute_result"
    }
   ],
   "source": [
    "employed_dev.shape"
   ]
  },
  {
   "cell_type": "markdown",
   "id": "3e8e8047",
   "metadata": {},
   "source": [
    "1,755 of all respondents are employed as devs."
   ]
  },
  {
   "cell_type": "code",
   "execution_count": 89,
   "id": "2c821b45",
   "metadata": {
    "scrolled": true
   },
   "outputs": [
    {
     "data": {
      "text/plain": [
       "Male                 0.764103\n",
       "Female               0.193732\n",
       "Prefer not to say    0.015385\n",
       "Unknown              0.013675\n",
       "Nonbinary            0.010826\n",
       "Queer                0.000570\n",
       "Nonbinary girl       0.000570\n",
       "attack helicopter    0.000570\n",
       "Cyborg               0.000570\n",
       "Name: gender, dtype: float64"
      ]
     },
     "execution_count": 89,
     "metadata": {},
     "output_type": "execute_result"
    }
   ],
   "source": [
    "employed_dev[\"gender\"].value_counts(normalize=True)"
   ]
  },
  {
   "cell_type": "code",
   "execution_count": 90,
   "id": "e56a3e79",
   "metadata": {},
   "outputs": [],
   "source": [
    "def clean_gender(val):\n",
    "    if \"binary\" in val:\n",
    "        val = \"Non binary\"\n",
    "    if val not in ['Male', 'Female', 'Prefer not to say', 'Unknown', 'Non binary']:\n",
    "        val = \"Others\"\n",
    "    return val"
   ]
  },
  {
   "cell_type": "code",
   "execution_count": 91,
   "id": "6a01e491",
   "metadata": {},
   "outputs": [],
   "source": [
    "employed_dev[\"clean_gender\"] = employed_dev[\"gender\"].apply(clean_gender)"
   ]
  },
  {
   "cell_type": "code",
   "execution_count": 92,
   "id": "136d44e3",
   "metadata": {},
   "outputs": [
    {
     "data": {
      "text/plain": [
       "Male                 1341\n",
       "Female                340\n",
       "Prefer not to say      27\n",
       "Unknown                24\n",
       "Non binary             20\n",
       "Others                  3\n",
       "Name: clean_gender, dtype: int64"
      ]
     },
     "execution_count": 92,
     "metadata": {},
     "output_type": "execute_result"
    }
   ],
   "source": [
    "employed_dev[\"clean_gender\"].value_counts()"
   ]
  },
  {
   "cell_type": "code",
   "execution_count": 93,
   "id": "a5ca5ed9",
   "metadata": {
    "scrolled": false
   },
   "outputs": [
    {
     "data": {
      "text/plain": [
       "White                                                                                                                                             669\n",
       "South Asian                                                                                                                                       313\n",
       "Hispanic/Latino(a/x)                                                                                                                              251\n",
       "Southeast Asian                                                                                                                                   143\n",
       "Black/African American                                                                                                                            112\n",
       "Middle Eastern or North African                                                                                                                    65\n",
       "East Asian                                                                                                                                         48\n",
       "Unknown                                                                                                                                            44\n",
       "Indian                                                                                                                                             19\n",
       "African                                                                                                                                             6\n",
       "American Indian or Alaska Native                                                                                                                    5\n",
       "indian                                                                                                                                              3\n",
       "Human                                                                                                                                               3\n",
       "European                                                                                                                                            3\n",
       "West African                                                                                                                                        2\n",
       "Central Asia                                                                                                                                        2\n",
       "Mediterranean                                                                                                                                       2\n",
       "Slavic                                                                                                                                              2\n",
       "Mixed race                                                                                                                                          2\n",
       "That's one hell of a stupid question IMO.                                                                                                           1\n",
       "Cyborg                                                                                                                                              1\n",
       "i am just a human                                                                                                                                   1\n",
       "human being. One's color of skin has nothing to do with anything. Keep it out of surveys.                                                           1\n",
       "i do not think this is relevant.                                                                                                                    1\n",
       "I'm white, but I identify with a bit of everything                                                                                                  1\n",
       "I do not recognize south asian as a group. I prefer Indian.                                                                                         1\n",
       "let me be just human                                                                                                                                1\n",
       "mixed                                                                                                                                               1\n",
       "Human (this kind of questions are too racist)                                                                                                       1\n",
       "2 or more races                                                                                                                                     1\n",
       "Alien                                                                                                                                               1\n",
       "greek                                                                                                                                               1\n",
       "brazilian                                                                                                                                           1\n",
       "Mixed                                                                                                                                               1\n",
       "I don't know if I am white or middle eastern, because I am neither asian nor african nor european, but from post-soviet central asian country.      1\n",
       "Black African                                                                                                                                       1\n",
       "Africa                                                                                                                                              1\n",
       "slavic                                                                                                                                              1\n",
       "African (Why is this not among the options!!???)                                                                                                    1\n",
       "human                                                                                                                                               1\n",
       "black africa(Ethopia)                                                                                                                               1\n",
       "Asian Latina                                                                                                                                        1\n",
       "White and Asian as I am 50% of both                                                                                                                 1\n",
       "Huwy                                                                                                                                                1\n",
       "mixed race. Asian, white                                                                                                                            1\n",
       "why did you not include indian we are about 14% of world, BTW iam indian.                                                                           1\n",
       "Human being                                                                                                                                         1\n",
       "Japanese!                                                                                                                                           1\n",
       "belarussian                                                                                                                                         1\n",
       "Central asian(Kazakh/Ukrainian)                                                                                                                     1\n",
       "Name: race, dtype: int64"
      ]
     },
     "execution_count": 93,
     "metadata": {},
     "output_type": "execute_result"
    }
   ],
   "source": [
    "employed_dev[\"race\"].value_counts().head(50)"
   ]
  },
  {
   "cell_type": "code",
   "execution_count": 94,
   "id": "962a6172",
   "metadata": {},
   "outputs": [],
   "source": [
    "def clean_race(val):\n",
    "    if val.lower() == \"african\" or val.lower() == \"west african\":\n",
    "        val = \"Black/African American\"\n",
    "        \n",
    "    elif val.lower() == \"indian\":\n",
    "        val = \"South Asian\"\n",
    "        \n",
    "    if val not in ['White', 'South Asian', 'Hispanic/Latino(a/x)', 'Southeast Asian',\n",
    "       'Black/African American', 'Middle Eastern or North African',\n",
    "       'East Asian', 'Unknown']:\n",
    "        val = \"Others\"\n",
    "    return val\n",
    "    \n",
    "    "
   ]
  },
  {
   "cell_type": "code",
   "execution_count": 95,
   "id": "a1db99eb",
   "metadata": {},
   "outputs": [],
   "source": [
    "employed_dev[\"clean_race\"] = employed_dev[\"race\"].apply(clean_race)"
   ]
  },
  {
   "cell_type": "code",
   "execution_count": 96,
   "id": "9498ece1",
   "metadata": {},
   "outputs": [
    {
     "data": {
      "text/plain": [
       "White                              669\n",
       "South Asian                        335\n",
       "Hispanic/Latino(a/x)               251\n",
       "Southeast Asian                    143\n",
       "Black/African American             121\n",
       "Others                              79\n",
       "Middle Eastern or North African     65\n",
       "East Asian                          48\n",
       "Unknown                             44\n",
       "Name: clean_race, dtype: int64"
      ]
     },
     "execution_count": 96,
     "metadata": {},
     "output_type": "execute_result"
    }
   ],
   "source": [
    "employed_dev[\"clean_race\"].value_counts()"
   ]
  },
  {
   "cell_type": "code",
   "execution_count": 97,
   "id": "2c37095b",
   "metadata": {},
   "outputs": [],
   "source": [
    "employed_gender_count =employed_dev[\"clean_gender\"].value_counts().drop([\"Unknown\", \"Others\"])"
   ]
  },
  {
   "cell_type": "code",
   "execution_count": 98,
   "id": "add372b1",
   "metadata": {
    "scrolled": false
   },
   "outputs": [
    {
     "data": {
      "image/png": "[encoded data removed]",
      "text/plain": [
       "<Figure size 1080x720 with 1 Axes>"
      ]
     },
     "metadata": {},
     "output_type": "display_data"
    }
   ],
   "source": [
    "plt.figure(figsize=(15, 10))\n",
    "labels = employed_gender_count.index\n",
    "colors = [\"purple\", \"green\", \"orange\", \"red\"]\n",
    "textprops = {\"fontsize\": 14, \"color\": \"black\"}\n",
    "plt.pie(employed_gender_count, colors=colors, labels=labels,\n",
    "       autopct=\"%1.1f%%\", pctdistance=0.85, textprops=textprops)\n",
    "# adding the circle\n",
    "fig = plt.gcf()\n",
    "circle = plt.Circle((0, 0), 0.7, color=\"white\")\n",
    "fig.gca().add_artist(circle)\n",
    "plt.axis(\"equal\")\n",
    "\n",
    "plt.title(\"Gender Representation In Dev Jobs\", weight=\"bold\")\n",
    "\n",
    "plt.show()"
   ]
  },
  {
   "cell_type": "markdown",
   "id": "ed065a3f",
   "metadata": {},
   "source": [
    "Out of the 1,755 resondents, 77.6% of them identified as male, 19.7% as female, 1.2% as Non binary. Though the sample size is small, we can still infer that dev jobs are still male dominated."
   ]
  },
  {
   "cell_type": "code",
   "execution_count": 99,
   "id": "9a4b946d",
   "metadata": {},
   "outputs": [],
   "source": [
    "employed_race_count = employed_dev[\"clean_race\"].value_counts().drop([\"Unknown\", \"Others\"])"
   ]
  },
  {
   "cell_type": "code",
   "execution_count": 100,
   "id": "986cc20c",
   "metadata": {},
   "outputs": [
    {
     "data": {
      "image/png": "[encoded data removed]",
      "text/plain": [
       "<Figure size 1080x720 with 1 Axes>"
      ]
     },
     "metadata": {},
     "output_type": "display_data"
    }
   ],
   "source": [
    "plt.figure(figsize=(15, 10))\n",
    "labels = employed_race_count.index\n",
    "colors = [\"purple\", \"green\", \"orange\", \"red\", \"blue\", \"yellow\", \"indigo\"]\n",
    "textprops = {\"fontsize\": 14, \"color\": \"black\"}\n",
    "plt.pie(employed_race_count, colors=colors, labels=labels,\n",
    "       autopct=\"%1.1f%%\", pctdistance=0.85, textprops=textprops)\n",
    "# adding the circle\n",
    "fig = plt.gcf()\n",
    "circle = plt.Circle((0, 0), 0.7, color=\"white\")\n",
    "fig.gca().add_artist(circle)\n",
    "plt.axis(\"equal\")\n",
    "\n",
    "plt.title(\"Racial Representation In Dev Jobs\", weight=\"bold\")\n",
    "\n",
    "plt.show()"
   ]
  },
  {
   "cell_type": "markdown",
   "id": "3a96b847",
   "metadata": {},
   "source": [
    "When will look at the races, dev jobs are still predominatly white dominated accounting for 41% of all the employed devs."
   ]
  },
  {
   "cell_type": "markdown",
   "id": "b9e308f6",
   "metadata": {},
   "source": [
    "## Conclusion\n",
    "We set out with an initial goal to answer certain questions about the tech field and dev jobs in particular. We were interested in why people were learning to code, what career they were interested in, what resources they used in learning , etc. So far we've been able to answer all these questions. These answers however are not totally definitive but they do give interesting insights of the current landscape of tech space. For instance the median earning for new devs in Sub-Saharan Africa was just 2,500 dollars, this didn't take into account whether they had full time employment or not, of if they were interns. Overall there was not enough data on newly employed devs."
   ]
  }
 ],
 "metadata": {
  "kernelspec": {
   "display_name": "Python 3 (ipykernel)",
   "language": "python",
   "name": "python3"
  },
  "language_info": {
   "codemirror_mode": {
    "name": "ipython",
    "version": 3
   },
   "file_extension": ".py",
   "mimetype": "text/x-python",
   "name": "python",
   "nbconvert_exporter": "python",
   "pygments_lexer": "ipython3",
   "version": "3.9.7"
  }
 },
 "nbformat": 4,
 "nbformat_minor": 5
}
